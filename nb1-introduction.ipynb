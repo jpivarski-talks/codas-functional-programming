{
 "cells": [
  {
   "cell_type": "markdown",
   "metadata": {
    "slideshow": {
     "slide_type": "slide"
    }
   },
   "source": [
    "# Functional Programming for Data Analysis\n",
    "\n",
    "### Jim Pivarski\n",
    "\n",
    "First notebook: introduction"
   ]
  },
  {
   "cell_type": "markdown",
   "metadata": {
    "slideshow": {
     "slide_type": "slide"
    }
   },
   "source": [
    "# x = x + 1"
   ]
  },
  {
   "cell_type": "markdown",
   "metadata": {
    "slideshow": {
     "slide_type": "fragment"
    }
   },
   "source": [
    "means **x** is infinite, right?"
   ]
  },
  {
   "cell_type": "markdown",
   "metadata": {
    "slideshow": {
     "slide_type": "slide"
    }
   },
   "source": [
    "After a long day of messy details, it's good to remember what computers really are:\n",
    "\n",
    "\n",
    "magical chalkboards that solve the problems we write on them."
   ]
  },
  {
   "cell_type": "markdown",
   "metadata": {
    "slideshow": {
     "slide_type": "slide"
    }
   },
   "source": [
    "<table style=\"width: 100%; height: 329px;\">\n",
    "<tr style=\"background-color: white;\"><td><span style=\"font-family: Lato, sans-serif; font-size: 35.84px\">Fun quiz: what were the first two high-level programming languages, both written for the IBM 704?</span></td>\n",
    "<td><img src=\"https://upload.wikimedia.org/wikipedia/commons/7/7d/IBM_704_mainframe.gif\" style=\"width: 500px; margin-left: auto; margin-right: auto;\"></tr>\n",
    "</table>"
   ]
  },
  {
   "cell_type": "markdown",
   "metadata": {
    "slideshow": {
     "slide_type": "fragment"
    }
   },
   "source": [
    "\\#1 FORTRAN"
   ]
  },
  {
   "cell_type": "markdown",
   "metadata": {
    "slideshow": {
     "slide_type": "fragment"
    }
   },
   "source": [
    "\\#2 Lisp"
   ]
  },
  {
   "cell_type": "markdown",
   "metadata": {
    "slideshow": {
     "slide_type": "slide"
    }
   },
   "source": [
    "Although you might not think of it as a high-level language, the whole purpose of \"FOR-TRAN\" is to _translate formulas_ of human-readable mathematics into executable code.\n",
    "\n",
    "<img src=\"http://worrydream.com/dbx/slides/slide.007.png\" style=\"width: 600px; margin-left: auto; margin-right: auto;\">"
   ]
  },
  {
   "cell_type": "markdown",
   "metadata": {
    "slideshow": {
     "slide_type": "slide"
    }
   },
   "source": [
    "And Lisp is...\n",
    "\n",
    "<img src=\"https://leanpub.com/site_images/lisphackers/lisp_cycles.png\" style=\"width: 80%; margin-left: auto; margin-right: auto;\">"
   ]
  },
  {
   "cell_type": "markdown",
   "metadata": {
    "slideshow": {
     "slide_type": "slide"
    }
   },
   "source": [
    "In time, FORTRAN begat COBOL, ALGOL, Pascal, C, Objective C, C++, D, Rust..."
   ]
  },
  {
   "cell_type": "markdown",
   "metadata": {
    "slideshow": {
     "slide_type": "fragment"
    }
   },
   "source": [
    "(\"Practical languages for real work...\")"
   ]
  },
  {
   "cell_type": "markdown",
   "metadata": {
    "slideshow": {
     "slide_type": "fragment"
    }
   },
   "source": [
    "While Lisp engendered Prolog, Scheme, ML, Haskell, Clojure..."
   ]
  },
  {
   "cell_type": "markdown",
   "metadata": {
    "slideshow": {
     "slide_type": "fragment"
    }
   },
   "source": [
    "(\"Conceptual languages that explore the bounds of computing...\")"
   ]
  },
  {
   "cell_type": "markdown",
   "metadata": {
    "slideshow": {
     "slide_type": "fragment"
    }
   },
   "source": [
    "But lately, these two families have been converging: high-level languages are practical."
   ]
  },
  {
   "cell_type": "markdown",
   "metadata": {
    "slideshow": {
     "slide_type": "slide"
    }
   },
   "source": [
    "In the \"multicore era,\" functional programming languages have been attracting attention as a way to simplify the human interface to parallel processing.\n",
    "\n",
    "You specify less of the \"how,\" more of the \"what.\""
   ]
  },
  {
   "cell_type": "code",
   "execution_count": null,
   "metadata": {
    "collapsed": true
   },
   "outputs": [],
   "source": [
    "map(lambda x: x**2, [1, 2, 3, 4, 5])"
   ]
  },
  {
   "cell_type": "markdown",
   "metadata": {
    "slideshow": {
     "slide_type": "fragment"
    }
   },
   "source": [
    "Did that just apply $f(x) = x^2$ to each integer from left to right, from right to left, or did it spawn five processes on five computers all around the world to produce the results and bring them back to me?\n",
    "\n",
    "The abstraction, `map`, doesn't specify."
   ]
  },
  {
   "cell_type": "markdown",
   "metadata": {
    "slideshow": {
     "slide_type": "slide"
    }
   },
   "source": [
    "One popular application:\n",
    "\n",
    "<table style=\"margin-left: auto; margin-right: auto;\">\n",
    "<tr style=\"background-color: white;\"><td><img src=\"https://scr.sad.supinfo.com/articles/resources/207908/2807/1.png\" style=\"height: 400px\"></td>\n",
    "<td><img src=\"https://pbs.twimg.com/profile_images/1252505253/elephant_rgb_sq.png\" style=\"height: 200px\"></tr>\n",
    "</table>\n"
   ]
  },
  {
   "cell_type": "markdown",
   "metadata": {
    "slideshow": {
     "slide_type": "slide"
    }
   },
   "source": [
    "The big deal about Hadoop was simply that a distributed shuffling system could be abstracted from the task in question by letting the users specify those tasks as function objects."
   ]
  },
  {
   "cell_type": "code",
   "execution_count": null,
   "metadata": {
    "collapsed": true,
    "slideshow": {
     "slide_type": "slide"
    }
   },
   "outputs": [],
   "source": [
    "def mapreduce(mapper, reducer, data):    # the lazy implementation; does not scale!\n",
    "    output = {}\n",
    "    for key1, value1 in data.items():\n",
    "        for key2, value2 in mapper(value1):\n",
    "            if key2 not in output:\n",
    "                output[key2] = value2\n",
    "            else:\n",
    "                output[key2] = reducer(output[key2], value2)\n",
    "    return output"
   ]
  },
  {
   "cell_type": "code",
   "execution_count": null,
   "metadata": {
    "collapsed": true,
    "slideshow": {
     "slide_type": "-"
    }
   },
   "outputs": [],
   "source": [
    "web_pages = {\"one.html\": \"lol cat\", \"two.html\": \"justin bieber cat\", \"three.html\": \"bieber cat bieber\"}\n",
    "\n",
    "# every Hadoop tutorial starts with counting words on web pages\n",
    "find_words = lambda page: [(word, 1) for word in page.split(\" \")]\n",
    "count_them = lambda count1, count2: count1 + count2\n",
    "\n",
    "mapreduce(find_words, count_them, web_pages)"
   ]
  },
  {
   "cell_type": "code",
   "execution_count": null,
   "metadata": {
    "collapsed": true,
    "slideshow": {
     "slide_type": "slide"
    }
   },
   "outputs": [],
   "source": [
    "residuals = {\"track1\": [0.10, -0.03, 0.07], \"track2\": [0.18, 0.04, -0.03], \"track3\": [-0.22, 0.13, -0.05]}\n",
    "\n",
    "# but detector alignment is also a good application\n",
    "collect_resids = lambda track: [(\"layer%d\" % i, (1.0, track[i])) for i in range(3)]\n",
    "average_them = lambda (w1, r1), (w2, r2): (w1 + w2, (w1*r1 + w2*r2)/(w1 + w2))\n",
    "\n",
    "mapreduce(collect_resids, average_them, residuals)"
   ]
  },
  {
   "cell_type": "markdown",
   "metadata": {},
   "source": [
    "Many problems fit into this same mold.\n",
    "\n",
    "Yahoo, Facebook, LinkedIn, eBay, and IBM could all contribute to the same codebase and use it on their diverse problems, because the `mapreduce` function takes a function."
   ]
  },
  {
   "cell_type": "markdown",
   "metadata": {
    "slideshow": {
     "slide_type": "slide"
    }
   },
   "source": [
    "You've seen functions that take functions before:\n",
    "\n",
    "![](https://wikimedia.org/api/rest_v1/media/math/render/svg/9f9f84b11bc8963b63f3775c2e268d8d9cde77e0)\n",
    "\n",
    "The Lagrangian in physics."
   ]
  },
  {
   "cell_type": "markdown",
   "metadata": {
    "slideshow": {
     "slide_type": "fragment"
    }
   },
   "source": [
    "\"Functional,\" \"functor,\" or \"higher-order functions\" are words for functions that take functions as arguments or return them as return values.\n",
    "\n",
    "Functions are objects you can program with, just like any other object."
   ]
  },
  {
   "cell_type": "markdown",
   "metadata": {
    "slideshow": {
     "slide_type": "slide"
    }
   },
   "source": [
    "Functional languages have long been considered slow because the most natural implementation is to make the function some sort of class object to pass around.\n",
    "\n",
    "However, some clever techniques can \"compile away\" the abstraction, so that you don't pay for it in performance."
   ]
  },
  {
   "cell_type": "markdown",
   "metadata": {
    "slideshow": {
     "slide_type": "slide"
    }
   },
   "source": [
    "**Another quiz:** what kind of language might this be?\n",
    "\n",
    "```haskell\n",
    "fun max(x: i32, y: i32): i32 =\n",
    "  if x > y then x else y\n",
    "\n",
    "fun redOp(x: (i32,i32,i32,i32))(y: (i32,i32,i32,i32)):\n",
    "    (i32,i32,i32,i32) =\n",
    "  let (mssx, misx, mcsx, tsx) = x in\n",
    "  let (mssy, misy, mcsy, tsy) = y in\n",
    "  (max(mssx, max(mssy, mcsx + misy)), max(misx, tsx+misy),\n",
    "   max(mcsy, mcsx+tsy), tsx + tsy)\n",
    "\n",
    "fun mapOp (x: i32): (i32,i32,i32,i32) =\n",
    "  (max(x,0), max(x,0), max(x,0), x)\n",
    "\n",
    "fun main(xs: []i32): i32 =\n",
    "  let (x, _, _, _) =\n",
    "    reduce redOp (0,0,0,0) (map mapOp xs) in x\n",
    "```"
   ]
  },
  {
   "cell_type": "markdown",
   "metadata": {
    "slideshow": {
     "slide_type": "slide"
    }
   },
   "source": [
    "**Answer:** it's [Futhark](https://futhark-lang.org/), a relative of Haskell specialized for GPU processing. It computes the maximum segment sum (e.g. `11` from `[1, -2, 3, 4, -1, 5, -6, 1]`), a non-commutative reducer, faster than Thrust (GPU library for C++).\n",
    "\n",
    "<img src=\"https://futhark-lang.org/images/mss.svg\" style=\"height: 400px; margin-left: auto; margin-right: auto;\">"
   ]
  },
  {
   "cell_type": "markdown",
   "metadata": {
    "slideshow": {
     "slide_type": "slide"
    }
   },
   "source": [
    "Functional programming languages are surprisingly well suited to designing FPGA circuits.\n",
    "\n",
    "See [Bluespec](http://bluespec.com/) (closed source) and [CλaSH](http://www.clash-lang.org/) (open source).\n",
    "\n",
    "Example: (a finite impulse response filter in CλaSH)\n",
    "\n",
    "```haskell\n",
    "fir coeffs x = dotp coeffs (window x)\n",
    "  where\n",
    "    dotp as bs = sum (zipWith (*) as bs)\n",
    "```\n",
    "\n",
    "Expressing a problem in terms of functions that take functions naturally lends itself to pipelining, unlike statements that change variable values."
   ]
  },
  {
   "cell_type": "markdown",
   "metadata": {
    "slideshow": {
     "slide_type": "slide"
    }
   },
   "source": [
    "And finally, it's used in data analysis because it hides computing details not relevant to the analyst and comes closer to the ideal of an executable chalkboard.\n",
    "\n",
    "\"R, at its heart, is a functional programming (FP) language.\" -- Hadley Wickham, [_Advanced R_](http://adv-r.had.co.nz/Functional-programming.html)\n",
    "\n",
    "\"Mathematica is Lisp with square brackets.\" -- me"
   ]
  },
  {
   "cell_type": "markdown",
   "metadata": {
    "slideshow": {
     "slide_type": "slide"
    }
   },
   "source": [
    "Next notebook: [nb2-functional-playground.ipynb](nb2-functional-playground.ipynb)"
   ]
  }
 ],
 "metadata": {
  "celltoolbar": "Slideshow",
  "kernelspec": {
   "display_name": "Python 2",
   "language": "python",
   "name": "python2"
  },
  "language_info": {
   "codemirror_mode": {
    "name": "ipython",
    "version": 2
   },
   "file_extension": ".py",
   "mimetype": "text/x-python",
   "name": "python",
   "nbconvert_exporter": "python",
   "pygments_lexer": "ipython2",
   "version": "2.7.6"
  }
 },
 "nbformat": 4,
 "nbformat_minor": 1
}
