{
 "cells": [
  {
   "cell_type": "markdown",
   "metadata": {
    "slideshow": {
     "slide_type": "slide"
    }
   },
   "source": [
    "# Functional Programming for Data Analysis\n",
    "\n",
    "### Jim Pivarski\n",
    "\n",
    "First notebook: introduction"
   ]
  },
  {
   "cell_type": "markdown",
   "metadata": {
    "slideshow": {
     "slide_type": "slide"
    }
   },
   "source": [
    "# x = x + 1"
   ]
  },
  {
   "cell_type": "markdown",
   "metadata": {
    "slideshow": {
     "slide_type": "fragment"
    }
   },
   "source": [
    "means **x** is infinite, right?"
   ]
  },
  {
   "cell_type": "markdown",
   "metadata": {
    "slideshow": {
     "slide_type": "slide"
    }
   },
   "source": [
    "After a long day of messy details, it's good to remember what computers really are:\n",
    "\n",
    "\n",
    "magical chalkboards that solve the problems we write on them."
   ]
  },
  {
   "cell_type": "markdown",
   "metadata": {
    "slideshow": {
     "slide_type": "slide"
    }
   },
   "source": [
    "<table style=\"width: 100%; height: 329px;\">\n",
    "<tr style=\"background-color: white;\"><td><span style=\"font-family: Lato, sans-serif; font-size: 35.84px\">Fun quiz: what were the first two high-level programming languages, both written for the IBM 704?</span></td>\n",
    "<td><img src=\"https://upload.wikimedia.org/wikipedia/commons/7/7d/IBM_704_mainframe.gif\" style=\"width: 500px; margin-left: auto; margin-right: auto;\"></tr>\n",
    "</table>"
   ]
  },
  {
   "cell_type": "markdown",
   "metadata": {
    "slideshow": {
     "slide_type": "fragment"
    }
   },
   "source": [
    "\\#1 FORTRAN"
   ]
  },
  {
   "cell_type": "markdown",
   "metadata": {
    "slideshow": {
     "slide_type": "fragment"
    }
   },
   "source": [
    "\\#2 Lisp"
   ]
  },
  {
   "cell_type": "markdown",
   "metadata": {
    "slideshow": {
     "slide_type": "slide"
    }
   },
   "source": [
    "Although you might not think of it as a high-level language, the whole purpose of \"FOR-TRAN\" is to _translate formulas_ of human-readable mathematics into executable code.\n",
    "\n",
    "<img src=\"http://worrydream.com/dbx/slides/slide.007.png\" style=\"width: 600px; margin-left: auto; margin-right: auto;\">"
   ]
  },
  {
   "cell_type": "markdown",
   "metadata": {
    "slideshow": {
     "slide_type": "slide"
    }
   },
   "source": [
    "And Lisp is...\n",
    "\n",
    "<img src=\"https://leanpub.com/site_images/lisphackers/lisp_cycles.png\" style=\"width: 80%; margin-left: auto; margin-right: auto;\">"
   ]
  },
  {
   "cell_type": "markdown",
   "metadata": {
    "slideshow": {
     "slide_type": "slide"
    }
   },
   "source": [
    "In time, FORTRAN begat COBOL, ALGOL, Pascal, C, Objective C, C++, D, Rust..."
   ]
  },
  {
   "cell_type": "markdown",
   "metadata": {
    "slideshow": {
     "slide_type": "fragment"
    }
   },
   "source": [
    "(\"Practical languages for real work...\")"
   ]
  },
  {
   "cell_type": "markdown",
   "metadata": {
    "slideshow": {
     "slide_type": "fragment"
    }
   },
   "source": [
    "While Lisp engendered Prolog, Scheme, ML, Haskell, Clojure..."
   ]
  },
  {
   "cell_type": "markdown",
   "metadata": {
    "slideshow": {
     "slide_type": "fragment"
    }
   },
   "source": [
    "(\"Conceptual languages for exploring the bounds of computing...\")"
   ]
  },
  {
   "cell_type": "markdown",
   "metadata": {
    "slideshow": {
     "slide_type": "fragment"
    }
   },
   "source": [
    "Except lately, the distinction is much less clear."
   ]
  },
  {
   "cell_type": "markdown",
   "metadata": {
    "slideshow": {
     "slide_type": "slide"
    }
   },
   "source": [
    "In the \"multicore era,\" functional programming languages have been attracting attention as a way to simplify the human interface to parallel processing.\n",
    "\n",
    "You say what you want, and the computer gives it to you."
   ]
  },
  {
   "cell_type": "code",
   "execution_count": null,
   "metadata": {},
   "outputs": [],
   "source": [
    "map(lambda x: x**2, [1, 2, 3, 4, 5])"
   ]
  },
  {
   "cell_type": "markdown",
   "metadata": {
    "slideshow": {
     "slide_type": "fragment"
    }
   },
   "source": [
    "Did that just apply $f(x) = x^2$ to each integer from left to right, from right to left, or did it spawn five processes on five computers all around the world to produce the results and bring them back to me?\n",
    "\n",
    "The abstraction, `map`, doesn't specify."
   ]
  },
  {
   "cell_type": "markdown",
   "metadata": {
    "slideshow": {
     "slide_type": "slide"
    }
   },
   "source": [
    "One popular application:\n",
    "\n",
    "<table style=\"margin-left: auto; margin-right: auto;\">\n",
    "<tr style=\"background-color: white;\"><td><img src=\"https://scr.sad.supinfo.com/articles/resources/207908/2807/1.png\" style=\"height: 400px\"></td>\n",
    "<td><img src=\"https://pbs.twimg.com/profile_images/1252505253/elephant_rgb_sq.png\" style=\"height: 200px\"></tr>\n",
    "</table>\n"
   ]
  },
  {
   "cell_type": "markdown",
   "metadata": {
    "slideshow": {
     "slide_type": "slide"
    }
   },
   "source": [
    "The big deal about Hadoop was simply that a distributed shuffling system could be abstracted from the task in question by letting the users specify those tasks as function objects."
   ]
  },
  {
   "cell_type": "code",
   "execution_count": 11,
   "metadata": {
    "collapsed": true,
    "slideshow": {
     "slide_type": "slide"
    }
   },
   "outputs": [],
   "source": [
    "def mapreduce(mapper, reducer, data):\n",
    "    output = {}\n",
    "    for key1, value1 in data.items():\n",
    "        for key2, value2 in mapper(value1):\n",
    "            if key2 not in output:\n",
    "                output[key2] = value2\n",
    "            else:\n",
    "                output[key2] = reducer(output[key2], value2)\n",
    "    return output"
   ]
  },
  {
   "cell_type": "code",
   "execution_count": 12,
   "metadata": {
    "slideshow": {
     "slide_type": "-"
    }
   },
   "outputs": [
    {
     "data": {
      "text/plain": [
       "{'bieber': 3, 'cat': 3, 'justin': 1, 'lol': 1}"
      ]
     },
     "execution_count": 12,
     "metadata": {},
     "output_type": "execute_result"
    }
   ],
   "source": [
    "web_pages = {\"one.html\": \"lol cat\", \"two.html\": \"justin bieber cat\", \"three.html\": \"bieber cat bieber\"}\n",
    "\n",
    "# every Hadoop tutorial starts with counting words on web pages\n",
    "find_words = lambda page: [(word, 1) for word in page.split(\" \")]\n",
    "count_them = lambda count1, count2: count1 + count2\n",
    "\n",
    "mapreduce(find_words, count_them, web_pages)"
   ]
  },
  {
   "cell_type": "code",
   "execution_count": 13,
   "metadata": {
    "slideshow": {
     "slide_type": "slide"
    }
   },
   "outputs": [
    {
     "data": {
      "text/plain": [
       "{'layer0': (3.0, 0.02),\n",
       " 'layer1': (3.0, 0.04666666666666667),\n",
       " 'layer2': (3.0, -0.003333333333333332)}"
      ]
     },
     "execution_count": 13,
     "metadata": {},
     "output_type": "execute_result"
    }
   ],
   "source": [
    "residuals = {\"track1\": [0.10, -0.03, 0.07], \"track2\": [0.18, 0.04, -0.03], \"track3\": [-0.22, 0.13, -0.05]}\n",
    "\n",
    "# but detector alignment is also a good application\n",
    "collect_resids = lambda track: [(\"layer%d\" % i, (1.0, track[i])) for i in range(3)]\n",
    "average_them = lambda (w1, r1), (w2, r2): (w1 + w2, (w1*r1 + w2*r2)/(w1 + w2))\n",
    "\n",
    "mapreduce(collect_resids, average_them, residuals)"
   ]
  },
  {
   "cell_type": "markdown",
   "metadata": {
    "slideshow": {
     "slide_type": "slide"
    }
   },
   "source": []
  }
 ],
 "metadata": {
  "celltoolbar": "Slideshow",
  "kernelspec": {
   "display_name": "Python 2",
   "language": "python",
   "name": "python2"
  },
  "language_info": {
   "codemirror_mode": {
    "name": "ipython",
    "version": 2
   },
   "file_extension": ".py",
   "mimetype": "text/x-python",
   "name": "python",
   "nbconvert_exporter": "python",
   "pygments_lexer": "ipython2",
   "version": "2.7.6"
  }
 },
 "nbformat": 4,
 "nbformat_minor": 1
}
