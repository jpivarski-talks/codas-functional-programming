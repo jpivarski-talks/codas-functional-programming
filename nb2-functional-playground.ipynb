{
 "cells": [
  {
   "cell_type": "markdown",
   "metadata": {
    "slideshow": {
     "slide_type": "slide"
    }
   },
   "source": [
    "# Functional Programming for Data Analysis\n",
    "\n",
    "### Jim Pivarski\n",
    "\n",
    "Second notebook: functional playground"
   ]
  },
  {
   "cell_type": "markdown",
   "metadata": {
    "slideshow": {
     "slide_type": "slide"
    }
   },
   "source": [
    "C++ and Python are not functional languages.\n",
    "\n",
    "Functional programming is a nebulously defined style, so there isn't a strict definition, but generally it involves working with expressions and not statements."
   ]
  },
  {
   "cell_type": "markdown",
   "metadata": {
    "slideshow": {
     "slide_type": "fragment"
    }
   },
   "source": [
    "   * **Expression:** tree-like structure of nested function calls. Has a return value and can be used as an argument to a function. Examples: a FORTRAN formula, a diagrammed sentence, all of Lisp.\n",
    "   * **Statement:** a command that either changes the computer's state or does nothing. Examples: Python's `for` and `if`, `move-robotic-arm`, all of assembly language."
   ]
  },
  {
   "cell_type": "markdown",
   "metadata": {
    "slideshow": {
     "slide_type": "slide"
    }
   },
   "source": [
    "This notebook will add methods to Python lists to make them easier to use for functional programming.\n",
    "\n",
    "The goal will be to analyze data without ever writing a `for` loop or `if` statement."
   ]
  },
  {
   "cell_type": "code",
   "execution_count": null,
   "metadata": {
    "collapsed": true,
    "slideshow": {
     "slide_type": "-"
    }
   },
   "outputs": [],
   "source": [
    "%matplotlib inline\n",
    "import helpers.functional"
   ]
  },
  {
   "cell_type": "code",
   "execution_count": null,
   "metadata": {
    "slideshow": {
     "slide_type": "fragment"
    }
   },
   "outputs": [],
   "source": [
    "[1, 2, 3, 4, 5].map(lambda x: x**2)"
   ]
  },
  {
   "cell_type": "markdown",
   "metadata": {
    "slideshow": {
     "slide_type": "slide"
    }
   },
   "source": [
    "To make it more real, let's work with real data (from the CMS public dataset)."
   ]
  },
  {
   "cell_type": "code",
   "execution_count": null,
   "metadata": {
    "slideshow": {
     "slide_type": "-"
    }
   },
   "outputs": [],
   "source": [
    "from helpers.functional import events\n",
    "\n",
    "events.take(1)"
   ]
  },
  {
   "cell_type": "markdown",
   "metadata": {
    "slideshow": {
     "slide_type": "slide"
    }
   },
   "source": [
    "Before trying to solve problems, we have to understand our toolset. Here are some of the methods that we've added to list:"
   ]
  },
  {
   "cell_type": "code",
   "execution_count": null,
   "metadata": {
    "scrolled": false
   },
   "outputs": [],
   "source": [
    "# not functional— a plain old function— but useful to peel off a few events to play with\n",
    "events.take(2)"
   ]
  },
  {
   "cell_type": "code",
   "execution_count": null,
   "metadata": {
    "slideshow": {
     "slide_type": "fragment"
    }
   },
   "outputs": [],
   "source": [
    "# also not functional— but using a suffix rather than \"len\" makes it easier to read chains\n",
    "events.take(12).size"
   ]
  },
  {
   "cell_type": "code",
   "execution_count": null,
   "metadata": {
    "slideshow": {
     "slide_type": "fragment"
    }
   },
   "outputs": [],
   "source": [
    "# aha! a real functional! but does it matter what order I put the \"map\" and the \"take\"?\n",
    "events.map(lambda ev: ev.muons).take(5)"
   ]
  },
  {
   "cell_type": "markdown",
   "metadata": {
    "slideshow": {
     "slide_type": "slide"
    }
   },
   "source": [
    "Filter is a very important functional in high energy physics."
   ]
  },
  {
   "cell_type": "code",
   "execution_count": null,
   "metadata": {
    "slideshow": {
     "slide_type": "-"
    }
   },
   "outputs": [],
   "source": [
    "events.take(100).filter(lambda ev: ev.muons.size >= 2)"
   ]
  },
  {
   "cell_type": "markdown",
   "metadata": {
    "slideshow": {
     "slide_type": "slide"
    }
   },
   "source": [
    "Flatten turns pesky lists-of-lists into simple lists."
   ]
  },
  {
   "cell_type": "code",
   "execution_count": null,
   "metadata": {},
   "outputs": [],
   "source": [
    "events.map(lambda ev: ev.muons).take(10)"
   ]
  },
  {
   "cell_type": "markdown",
   "metadata": {
    "slideshow": {
     "slide_type": "slide"
    }
   },
   "source": [
    "\"Flatmap\" does \"map\" and \"flatten\" at the same time. It's more than a convenience— it has foundational importance (see [monadic bind](https://en.wikipedia.org/wiki/Monad_%28functional_programming%29)). For our purposes, we can think of it as a way of turning event ntuples into particle ntuples."
   ]
  },
  {
   "cell_type": "code",
   "execution_count": null,
   "metadata": {},
   "outputs": [],
   "source": [
    "events.flatmap(lambda ev: ev.muons).take(10)   # now a muon ntuple"
   ]
  },
  {
   "cell_type": "markdown",
   "metadata": {
    "slideshow": {
     "slide_type": "slide"
    }
   },
   "source": [
    "\"Reduce\" is fundamentally different: it turns ntuples into aggregations (counts, sums, means, histograms...). All the other functionals we have seen so far turn ntuples into ntuples."
   ]
  },
  {
   "cell_type": "code",
   "execution_count": null,
   "metadata": {},
   "outputs": [],
   "source": [
    "events.map(lambda ev: ev.numPrimaryVertices).take(1000) \\\n",
    "      .reduce(lambda x, y: x + y) / 1000.0"
   ]
  },
  {
   "cell_type": "code",
   "execution_count": null,
   "metadata": {
    "collapsed": true,
    "slideshow": {
     "slide_type": "fragment"
    }
   },
   "outputs": [],
   "source": [
    "def weightAndPrimaryVertices(ev):\n",
    "    return (1.0, ev.numPrimaryVertices)\n",
    "\n",
    "def averageOnTheFly(x, y):\n",
    "    wx, x = x\n",
    "    wy, y = y\n",
    "    return (wx + wy), (wx*x + wy*y)/(wx + wy)"
   ]
  },
  {
   "cell_type": "markdown",
   "metadata": {
    "slideshow": {
     "slide_type": "slide"
    }
   },
   "source": [
    "Reduce has a hidden limitation: it combines pairs of elements, using the result as part of the next pair. So what if you want to make an aggregation that is of a different type than the elements you're combining?"
   ]
  },
  {
   "cell_type": "code",
   "execution_count": 23,
   "metadata": {},
   "outputs": [
    {
     "data": {
      "text/plain": [
       "-18.51710605621338"
      ]
     },
     "execution_count": 23,
     "metadata": {},
     "output_type": "execute_result"
    }
   ],
   "source": [
    "events.flatmap(lambda ev: ev.muons).take(2).reduce(lambda mu1, mu2: mu1.px + mu2.px)"
   ]
  },
  {
   "cell_type": "code",
   "execution_count": 18,
   "metadata": {
    "scrolled": false,
    "slideshow": {
     "slide_type": "slide"
    }
   },
   "outputs": [
    {
     "data": {
      "text/plain": [
       "<matplotlib.axes._subplots.AxesSubplot at 0x77e0a345d050>"
      ]
     },
     "execution_count": 18,
     "metadata": {},
     "output_type": "execute_result"
    },
    {
     "data": {
      "image/png": "[encoded data removed]",
      "text/plain": [
       "<matplotlib.figure.Figure at 0x77e0a34d3290>"
      ]
     },
     "metadata": {},
     "output_type": "display_data"
    }
   ],
   "source": [
    "from histogrammar import *\n",
    "from math import sqrt\n",
    "\n",
    "hist = Bin(100, 0, 500, lambda muon: sqrt(muon.px**2 + muon.py**2 + muon.pz**2))\n",
    "\n",
    "for muon in events.flatmap(lambda ev: ev.muons).take(10000):\n",
    "    hist.fill(muon)     # not functional! this statement changes \"hist\"\n",
    "\n",
    "hist.plot.matplotlib()"
   ]
  },
  {
   "cell_type": "markdown",
   "metadata": {
    "slideshow": {
     "slide_type": "slide"
    }
   },
   "source": [
    "Well, there's an app for that."
   ]
  },
  {
   "cell_type": "code",
   "execution_count": 27,
   "metadata": {},
   "outputs": [
    {
     "data": {
      "text/plain": [
       "<Bin num=100 low=0.0 high=500.0 values=Count underflow=Count overflow=Count nanflow=Count>"
      ]
     },
     "execution_count": 27,
     "metadata": {},
     "output_type": "execute_result"
    }
   ],
   "source": [
    "def newhist():\n",
    "    return Bin(100, 0, 500, lambda muon: sqrt(muon.px**2 + muon.py**2 + muon.pz**2))\n",
    "\n",
    "def filled(histogram, muon):\n",
    "    h = newhist()\n",
    "    h.fill(muon)\n",
    "    return histogram + h\n",
    "\n",
    "events.flatmap(lambda ev: ev.muons).take(100).aggregate(filled, zero=newhist())   # functional (but slow)"
   ]
  },
  {
   "cell_type": "markdown",
   "metadata": {},
   "source": [
    "Generally, doing useful work with functional programming means being familiar with a toolset of handy combinators and knowing their mathematical properties."
   ]
  },
  {
   "cell_type": "markdown",
   "metadata": {
    "slideshow": {
     "slide_type": "slide"
    }
   },
   "source": [
    "Here's a nice one. Histogramming is important enough to be a standard combinator."
   ]
  },
  {
   "cell_type": "code",
   "execution_count": 30,
   "metadata": {},
   "outputs": [
    {
     "data": {
      "text/plain": [
       "<matplotlib.axes._subplots.AxesSubplot at 0x77e0a1b01e90>"
      ]
     },
     "execution_count": 30,
     "metadata": {},
     "output_type": "execute_result"
    },
    {
     "data": {
      "image/png": "[encoded data removed]",
      "text/plain": [
       "<matplotlib.figure.Figure at 0x77e0a1b01910>"
      ]
     },
     "metadata": {},
     "output_type": "display_data"
    }
   ],
   "source": [
    "events.flatmap(lambda ev: ev.muons).take(10000) \\\n",
    "      .Bin(100, 0, 500, lambda muon: sqrt(muon.px**2 + muon.py**2 + muon.pz**2)) \\\n",
    "      .plot.matplotlib()"
   ]
  },
  {
   "cell_type": "markdown",
   "metadata": {
    "slideshow": {
     "slide_type": "slide"
    }
   },
   "source": [
    "Taking away the `for` loop is like taking away `GOTO`. The programmer has less power but the code better expresses the programmer's intent.\n",
    "\n",
    "Solving the domain-specific problem (physics) and optimizing the calculation are better separated. If you _want_ to think about performance issues, you edit the underlying library, not the physics code."
   ]
  },
  {
   "cell_type": "markdown",
   "metadata": {
    "slideshow": {
     "slide_type": "slide"
    }
   },
   "source": []
  },
  {
   "cell_type": "markdown",
   "metadata": {
    "slideshow": {
     "slide_type": "slide"
    }
   },
   "source": [
    "Challenge: compute and plot `deltaR` for every muon-jet pair. (Don't use `for` loops!)"
   ]
  },
  {
   "cell_type": "code",
   "execution_count": 71,
   "metadata": {},
   "outputs": [],
   "source": [
    "from math import *\n",
    "\n",
    "def deltaphi(particle1, particle2):\n",
    "    phi1 = atan2(particle1.py, particle1.px)\n",
    "    phi2 = atan2(particle2.py, particle2.px)\n",
    "    return (phi1 - phi2) % (2*pi) - pi\n",
    "\n",
    "def deltaeta(particle1, particle2):\n",
    "    eta1 = atanh(particle1.pz / sqrt(particle1.px**2 + particle1.py**2 + particle1.pz**2))\n",
    "    eta2 = atanh(particle2.pz / sqrt(particle2.px**2 + particle2.py**2 + particle2.pz**2))\n",
    "    return eta1 - eta2\n",
    "\n",
    "def deltaR(particle1, particle2):\n",
    "    return sqrt(deltaphi(particle1, particle2)**2 + deltaeta(particle1, particle2)**2)\n",
    "\n",
    "goodevents = events.filter(lambda ev: ev.muons.size > 0 and ev.jets.size > 0).take(1000)"
   ]
  },
  {
   "cell_type": "code",
   "execution_count": 73,
   "metadata": {},
   "outputs": [],
   "source": [
    "# goodevents. ...?"
   ]
  },
  {
   "cell_type": "code",
   "execution_count": null,
   "metadata": {
    "collapsed": true,
    "slideshow": {
     "slide_type": "slide"
    }
   },
   "outputs": [],
   "source": []
  }
 ],
 "metadata": {
  "celltoolbar": "Slideshow",
  "kernelspec": {
   "display_name": "Python 2",
   "language": "python",
   "name": "python2"
  },
  "language_info": {
   "codemirror_mode": {
    "name": "ipython",
    "version": 2
   },
   "file_extension": ".py",
   "mimetype": "text/x-python",
   "name": "python",
   "nbconvert_exporter": "python",
   "pygments_lexer": "ipython2",
   "version": "2.7.6"
  }
 },
 "nbformat": 4,
 "nbformat_minor": 1
}
