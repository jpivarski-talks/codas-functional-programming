{
 "cells": [
  {
   "cell_type": "markdown",
   "metadata": {
    "slideshow": {
     "slide_type": "slide"
    }
   },
   "source": [
    "# Functional Programming for Data Analysis\n",
    "\n",
    "### Jim Pivarski\n",
    "\n",
    "Second notebook: functional playground"
   ]
  },
  {
   "cell_type": "markdown",
   "metadata": {
    "slideshow": {
     "slide_type": "slide"
    }
   },
   "source": [
    "C++ and Python are not functional languages.\n",
    "\n",
    "Functional programming is a nebulously defined style, so there isn't a strict definition, but generally it involves working with expressions and not statements."
   ]
  },
  {
   "cell_type": "markdown",
   "metadata": {
    "slideshow": {
     "slide_type": "fragment"
    }
   },
   "source": [
    "   * **Expression:** tree-like structure of nested function calls. Has a return value and can be used as an argument to a function. Examples: a FORTRAN formula, a diagrammed sentence, all of Lisp.\n",
    "   * **Statement:** a command that either changes the computer's state or does nothing. Examples: Python's `for` and `if`, `move-robotic-arm`, all of assembly language."
   ]
  },
  {
   "cell_type": "markdown",
   "metadata": {
    "slideshow": {
     "slide_type": "slide"
    }
   },
   "source": [
    "This notebook will add methods to Python lists to make them easier to use for functional programming.\n",
    "\n",
    "The goal will be to analyze data without ever writing a `for` loop or `if` statement."
   ]
  },
  {
   "cell_type": "code",
   "execution_count": null,
   "metadata": {
    "slideshow": {
     "slide_type": "-"
    }
   },
   "outputs": [],
   "source": [
    "%matplotlib inline\n",
    "import helpers.functional"
   ]
  },
  {
   "cell_type": "code",
   "execution_count": null,
   "metadata": {
    "slideshow": {
     "slide_type": "fragment"
    }
   },
   "outputs": [],
   "source": [
    "[1, 2, 3, 4, 5].map(lambda x: x**2)"
   ]
  },
  {
   "cell_type": "markdown",
   "metadata": {
    "slideshow": {
     "slide_type": "slide"
    }
   },
   "source": [
    "To make it more real, let's work with real data (from the CMS public dataset)."
   ]
  },
  {
   "cell_type": "code",
   "execution_count": null,
   "metadata": {
    "slideshow": {
     "slide_type": "-"
    }
   },
   "outputs": [],
   "source": [
    "from helpers.functional import events\n",
    "\n",
    "events.take(1)"
   ]
  },
  {
   "cell_type": "markdown",
   "metadata": {
    "slideshow": {
     "slide_type": "slide"
    }
   },
   "source": [
    "Before trying to solve problems, we have to understand our toolset. Here are some of the methods that we've added to list:"
   ]
  },
  {
   "cell_type": "code",
   "execution_count": null,
   "metadata": {
    "scrolled": false
   },
   "outputs": [],
   "source": [
    "# not functional— a plain old function— but useful to peel off a few events to play with\n",
    "events.take(2)"
   ]
  },
  {
   "cell_type": "code",
   "execution_count": null,
   "metadata": {
    "slideshow": {
     "slide_type": "fragment"
    }
   },
   "outputs": [],
   "source": [
    "# also not functional— but using a suffix rather than \"len\" makes it easier to read chains\n",
    "events.take(12).size"
   ]
  },
  {
   "cell_type": "code",
   "execution_count": null,
   "metadata": {
    "slideshow": {
     "slide_type": "fragment"
    }
   },
   "outputs": [],
   "source": [
    "# aha! a real functional! but does it matter what order I put the \"map\" and the \"take\"?\n",
    "events.map(lambda ev: ev.muons).take(5)"
   ]
  },
  {
   "cell_type": "markdown",
   "metadata": {
    "slideshow": {
     "slide_type": "slide"
    }
   },
   "source": [
    "Filter is a very important functional in high energy physics."
   ]
  },
  {
   "cell_type": "code",
   "execution_count": null,
   "metadata": {
    "slideshow": {
     "slide_type": "-"
    }
   },
   "outputs": [],
   "source": [
    "events.take(100).filter(lambda ev: ev.muons.size >= 2)"
   ]
  },
  {
   "cell_type": "markdown",
   "metadata": {
    "slideshow": {
     "slide_type": "slide"
    }
   },
   "source": [
    "Flatten turns pesky lists-of-lists into simple lists."
   ]
  },
  {
   "cell_type": "code",
   "execution_count": null,
   "metadata": {},
   "outputs": [],
   "source": [
    "events.map(lambda ev: ev.muons).take(10)"
   ]
  },
  {
   "cell_type": "markdown",
   "metadata": {
    "slideshow": {
     "slide_type": "slide"
    }
   },
   "source": [
    "\"Flatmap\" does \"map\" and \"flatten\" at the same time. It's more than a convenience— it has foundational importance (see [monadic bind](https://en.wikipedia.org/wiki/Monad_%28functional_programming%29)). For our purposes, we can think of it as a way of turning event ntuples into particle ntuples."
   ]
  },
  {
   "cell_type": "code",
   "execution_count": null,
   "metadata": {},
   "outputs": [],
   "source": [
    "events.flatmap(lambda ev: ev.muons).take(10)   # now a muon ntuple"
   ]
  },
  {
   "cell_type": "markdown",
   "metadata": {
    "slideshow": {
     "slide_type": "slide"
    }
   },
   "source": [
    "\"Reduce\" is fundamentally different: it turns ntuples into aggregations (counts, sums, means, histograms...). All the other functionals we have seen so far turn ntuples into ntuples."
   ]
  },
  {
   "cell_type": "code",
   "execution_count": null,
   "metadata": {},
   "outputs": [],
   "source": [
    "events.map(lambda ev: ev.numPrimaryVertices).take(1000) \\\n",
    "      .reduce(lambda x, y: x + y) / 1000.0"
   ]
  },
  {
   "cell_type": "code",
   "execution_count": null,
   "metadata": {
    "collapsed": true,
    "slideshow": {
     "slide_type": "fragment"
    }
   },
   "outputs": [],
   "source": [
    "def weightAndPrimaryVertices(ev):\n",
    "    return (1.0, ev.numPrimaryVertices)\n",
    "\n",
    "def averageOnTheFly(x, y):\n",
    "    wx, x = x\n",
    "    wy, y = y\n",
    "    return (wx + wy), (wx*x + wy*y)/(wx + wy)"
   ]
  },
  {
   "cell_type": "markdown",
   "metadata": {
    "slideshow": {
     "slide_type": "slide"
    }
   },
   "source": [
    "Reduce has a hidden limitation: it combines pairs of elements, using the result as part of the next pair. So what if you want to make an aggregation that is of a different type than the elements you're combining?"
   ]
  },
  {
   "cell_type": "code",
   "execution_count": null,
   "metadata": {},
   "outputs": [],
   "source": [
    "events.flatmap(lambda ev: ev.muons).take(2).reduce(lambda mu1, mu2: mu1.px + mu2.px)"
   ]
  },
  {
   "cell_type": "code",
   "execution_count": null,
   "metadata": {
    "scrolled": false,
    "slideshow": {
     "slide_type": "slide"
    }
   },
   "outputs": [],
   "source": [
    "from histogrammar import *\n",
    "from math import sqrt\n",
    "\n",
    "hist = Bin(100, 0, 500, lambda muon: sqrt(muon.px**2 + muon.py**2 + muon.pz**2))\n",
    "\n",
    "for muon in events.flatmap(lambda ev: ev.muons).take(10000):\n",
    "    hist.fill(muon)     # not functional! this statement changes \"hist\"\n",
    "\n",
    "hist.plot.matplotlib()"
   ]
  },
  {
   "cell_type": "markdown",
   "metadata": {
    "slideshow": {
     "slide_type": "slide"
    }
   },
   "source": [
    "Well, there's an app for that."
   ]
  },
  {
   "cell_type": "code",
   "execution_count": null,
   "metadata": {},
   "outputs": [],
   "source": [
    "def newhist():\n",
    "    return Bin(100, 0, 500, lambda muon: sqrt(muon.px**2 + muon.py**2 + muon.pz**2))\n",
    "\n",
    "def filled(histogram, muon):\n",
    "    h = newhist()\n",
    "    h.fill(muon)\n",
    "    return histogram + h\n",
    "\n",
    "events.flatmap(lambda ev: ev.muons) \\\n",
    "      .take(100) \\\n",
    "      .aggregate(filled, zero=newhist())   # functional (but slow)"
   ]
  },
  {
   "cell_type": "markdown",
   "metadata": {},
   "source": [
    "Generally, doing useful work with functional programming means being familiar with a toolset of handy combinators and knowing their mathematical properties."
   ]
  },
  {
   "cell_type": "markdown",
   "metadata": {
    "slideshow": {
     "slide_type": "slide"
    }
   },
   "source": [
    "Here's one: histogramming is important enough to be a standard combinator."
   ]
  },
  {
   "cell_type": "code",
   "execution_count": null,
   "metadata": {},
   "outputs": [],
   "source": [
    "events.flatmap(lambda ev: ev.muons).take(10000) \\\n",
    "      .Bin(100, 0, 500, lambda muon: sqrt(muon.px**2 + muon.py**2 + muon.pz**2)) \\\n",
    "      .plot.matplotlib()"
   ]
  },
  {
   "cell_type": "markdown",
   "metadata": {
    "slideshow": {
     "slide_type": "slide"
    }
   },
   "source": [
    "Taking away the `for` loop is like taking away `GOTO`. The programmer has less power but the code better expresses the programmer's intent.\n",
    "\n",
    "Solving the domain-specific problem (physics) and optimizing the calculation are better separated. If you _want_ to think about performance issues, you edit the underlying library, not the physics code."
   ]
  },
  {
   "cell_type": "markdown",
   "metadata": {
    "slideshow": {
     "slide_type": "slide"
    }
   },
   "source": [
    "Guided challenge: the following shows how to nest `for` loops with `map` combinators. However, the output has too much structure— eliminate it to plot the Z peak."
   ]
  },
  {
   "cell_type": "code",
   "execution_count": null,
   "metadata": {},
   "outputs": [],
   "source": [
    "def dimuon(muon1, muon2):                # trick to map and filter in one function:\n",
    "    if muon1 == muon2: return []         # if the candidate doesn't pass cuts, return []\n",
    "    else: return [(muon1 + muon2).mass]  # otherwise return singleton list\n",
    "\n",
    "goodevents = events.filter(lambda ev: ev.muons.size > 1)\n",
    "\n",
    "goodevents.map(lambda ev: ev.muons.map(lambda mu1: ev.muons.map(lambda mu2: dimuon(mu1, mu2)))).take(10)"
   ]
  },
  {
   "cell_type": "markdown",
   "metadata": {
    "slideshow": {
     "slide_type": "slide"
    }
   },
   "source": [
    "Of course, for something as common as nested `for` loops, we'd have standard combinators."
   ]
  },
  {
   "cell_type": "code",
   "execution_count": null,
   "metadata": {
    "scrolled": false
   },
   "outputs": [],
   "source": [
    "goodevents.flatmap(lambda ev: ev.muons.pairs(lambda mu1, mu2: (mu1 + mu2).mass)) \\\n",
    "          .take(1000).Bin(120, 60, 120, identity).plot.matplotlib()"
   ]
  },
  {
   "cell_type": "code",
   "execution_count": null,
   "metadata": {
    "slideshow": {
     "slide_type": "slide"
    }
   },
   "outputs": [],
   "source": [
    "# help([].pairs)\n",
    "# help([[], []].table)\n",
    "help([[], []].zip)"
   ]
  },
  {
   "cell_type": "markdown",
   "metadata": {
    "slideshow": {
     "slide_type": "slide"
    }
   },
   "source": [
    "Challenge: compute and plot `deltaR` for every muon-jet pair. (Don't use `for` loops!)"
   ]
  },
  {
   "cell_type": "code",
   "execution_count": null,
   "metadata": {},
   "outputs": [],
   "source": [
    "from math import *\n",
    "\n",
    "def deltaphi(particle1, particle2):\n",
    "    return (particle1.phi - particle2.phi) % (2*pi) - pi\n",
    "\n",
    "def deltaeta(particle1, particle2):\n",
    "    return particle1.eta - particle2.eta\n",
    "\n",
    "def deltaR(particle1, particle2):\n",
    "    return sqrt(deltaphi(particle1, particle2)**2 + deltaeta(particle1, particle2)**2)\n",
    "\n",
    "goodevents = events.filter(lambda ev: ev.muons.size > 0 and ev.jets.size > 0).take(1000)"
   ]
  },
  {
   "cell_type": "code",
   "execution_count": null,
   "metadata": {},
   "outputs": [],
   "source": [
    "# goodevents. ...?"
   ]
  },
  {
   "cell_type": "markdown",
   "metadata": {
    "slideshow": {
     "slide_type": "slide"
    }
   },
   "source": [
    "Functional programming changes how we think about data analysis; maybe hard to get used to at first, but in the long run it forces us to think about the necessary complexity of analysis problems rather than the accidental complexity.\n",
    "\n",
    "   * **Necessary complexity:** How are my data structured? What mathematical operation do I want to apply? How can I restructure what I have to what I want?\n",
    "   * **Accidental complexity:** What do I have to do to get the computer to compute it (efficiently)? How do I split up my tasks to run them in parallel?"
   ]
  },
  {
   "cell_type": "markdown",
   "metadata": {
    "slideshow": {
     "slide_type": "slide"
    }
   },
   "source": [
    "Last example: generalizing histograms. In our examples, histograms are functionals that we combined with the likes of `map`, `filter`, and `reduce`. But making histogram elements combinational, we open them to generalization:"
   ]
  },
  {
   "cell_type": "code",
   "execution_count": null,
   "metadata": {},
   "outputs": [],
   "source": [
    "muons = events.flatmap(lambda ev: ev.muons).take(1000)\n",
    "muons.Count()"
   ]
  },
  {
   "cell_type": "code",
   "execution_count": null,
   "metadata": {
    "slideshow": {
     "slide_type": "fragment"
    }
   },
   "outputs": [],
   "source": [
    "muons.Deviate(lambda mu: mu.py)"
   ]
  },
  {
   "cell_type": "code",
   "execution_count": null,
   "metadata": {
    "slideshow": {
     "slide_type": "fragment"
    }
   },
   "outputs": [],
   "source": [
    "muons.Bin(5, -100, 100, lambda mu: mu.px, Count()).values"
   ]
  },
  {
   "cell_type": "code",
   "execution_count": null,
   "metadata": {
    "slideshow": {
     "slide_type": "fragment"
    }
   },
   "outputs": [],
   "source": [
    "muons.Bin(5, -100, 100, lambda mu: mu.px, Deviate(lambda mu: mu.py)).values"
   ]
  },
  {
   "cell_type": "markdown",
   "metadata": {
    "slideshow": {
     "slide_type": "slide"
    }
   },
   "source": [
    "Challenge: below is what ROOT calls a \"profile plot.\" How would you make a two-dimensional histogram (using what you know)?"
   ]
  },
  {
   "cell_type": "code",
   "execution_count": null,
   "metadata": {
    "slideshow": {
     "slide_type": "-"
    }
   },
   "outputs": [],
   "source": [
    "events.flatmap(lambda ev: ev.muons).take(10000) \\\n",
    "      .Bin(50, -100, 100, lambda mu: mu.px, Deviate(lambda mu: mu.py)) \\\n",
    "      .plot.matplotlib()"
   ]
  },
  {
   "cell_type": "markdown",
   "metadata": {},
   "source": [
    "Next notebook: [nb3-spark.ipynb](nb3-spark.ipynb)"
   ]
  }
 ],
 "metadata": {
  "celltoolbar": "Slideshow",
  "kernelspec": {
   "display_name": "Python 2",
   "language": "python",
   "name": "python2"
  },
  "language_info": {
   "codemirror_mode": {
    "name": "ipython",
    "version": 2
   },
   "file_extension": ".py",
   "mimetype": "text/x-python",
   "name": "python",
   "nbconvert_exporter": "python",
   "pygments_lexer": "ipython2",
   "version": "2.7.6"
  }
 },
 "nbformat": 4,
 "nbformat_minor": 1
}
