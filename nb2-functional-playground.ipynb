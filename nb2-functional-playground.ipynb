{
 "cells": [
  {
   "cell_type": "markdown",
   "metadata": {
    "slideshow": {
     "slide_type": "slide"
    }
   },
   "source": [
    "# Functional Programming for Data Analysis\n",
    "\n",
    "### Jim Pivarski\n",
    "\n",
    "Second notebook: functional playground"
   ]
  },
  {
   "cell_type": "markdown",
   "metadata": {
    "slideshow": {
     "slide_type": "slide"
    }
   },
   "source": [
    "C++ and Python are not functional languages.\n",
    "\n",
    "Functional programming is a nebulously defined style, so there isn't a strict definition, but generally it involves working with expressions and not statements."
   ]
  },
  {
   "cell_type": "markdown",
   "metadata": {
    "slideshow": {
     "slide_type": "fragment"
    }
   },
   "source": [
    "   * **Expression:** tree-like structure of nested function calls. Has a return value and can be used as an argument to a function. Examples: a FORTRAN formula, a diagrammed sentence, all of Lisp.\n",
    "   * **Statement:** a command that either changes the computer's state or does nothing. Examples: Python's `for` and `if`, `move-robotic-arm`, all of assembly language."
   ]
  },
  {
   "cell_type": "markdown",
   "metadata": {
    "slideshow": {
     "slide_type": "slide"
    }
   },
   "source": [
    "This notebook will add methods to Python lists to make them easier to use for functional programming.\n",
    "\n",
    "The goal will be to analyze data without ever writing a `for` loop or `if` statement."
   ]
  },
  {
   "cell_type": "code",
   "execution_count": 1,
   "metadata": {
    "slideshow": {
     "slide_type": "-"
    }
   },
   "outputs": [],
   "source": [
    "%matplotlib inline\n",
    "import helpers.functional"
   ]
  },
  {
   "cell_type": "code",
   "execution_count": 2,
   "metadata": {
    "slideshow": {
     "slide_type": "fragment"
    }
   },
   "outputs": [
    {
     "data": {
      "text/plain": [
       "[1, 4, 9, 16, 25]"
      ]
     },
     "execution_count": 2,
     "metadata": {},
     "output_type": "execute_result"
    }
   ],
   "source": [
    "[1, 2, 3, 4, 5].map(lambda x: x**2)"
   ]
  },
  {
   "cell_type": "markdown",
   "metadata": {
    "slideshow": {
     "slide_type": "slide"
    }
   },
   "source": [
    "To make it more real, let's work with real data (from the CMS public dataset)."
   ]
  },
  {
   "cell_type": "code",
   "execution_count": 11,
   "metadata": {
    "slideshow": {
     "slide_type": "-"
    }
   },
   "outputs": [
    {
     "data": {
      "text/plain": [
       "[Event([], [Muon(4.85949611664, -30.2398738861, 137.776489258, 141.139785767, -1, 0.0)], [], [], MET(-8.67440891266, 21.8987998962), 7)]"
      ]
     },
     "execution_count": 11,
     "metadata": {},
     "output_type": "execute_result"
    }
   ],
   "source": [
    "from helpers.functional import events\n",
    "\n",
    "events.take(1)"
   ]
  },
  {
   "cell_type": "markdown",
   "metadata": {
    "slideshow": {
     "slide_type": "slide"
    }
   },
   "source": [
    "Before trying to solve problems, we have to understand our toolset. Here are some of the methods that we've added to list:"
   ]
  },
  {
   "cell_type": "code",
   "execution_count": 12,
   "metadata": {
    "scrolled": false
   },
   "outputs": [
    {
     "data": {
      "text/plain": [
       "[Event([], [Muon(4.85949611664, -30.2398738861, 137.776489258, 141.139785767, -1, 0.0)], [], [], MET(-8.67440891266, 21.8987998962), 7),\n",
       " Event([], [Muon(-23.3766021729, -21.3244667053, -21.4867858887, 38.2477645874, 1, 0.518906891346)], [], [], MET(26.8287220001, 29.009141922), 7)]"
      ]
     },
     "execution_count": 12,
     "metadata": {},
     "output_type": "execute_result"
    }
   ],
   "source": [
    "# not functional— a plain old function— but useful to peel off a few events to play with\n",
    "events.take(2)"
   ]
  },
  {
   "cell_type": "code",
   "execution_count": 13,
   "metadata": {
    "slideshow": {
     "slide_type": "fragment"
    }
   },
   "outputs": [
    {
     "data": {
      "text/plain": [
       "12"
      ]
     },
     "execution_count": 13,
     "metadata": {},
     "output_type": "execute_result"
    }
   ],
   "source": [
    "# also not functional— but using a suffix rather than \"len\" makes it easier to read chains\n",
    "events.take(12).size"
   ]
  },
  {
   "cell_type": "code",
   "execution_count": 14,
   "metadata": {
    "slideshow": {
     "slide_type": "fragment"
    }
   },
   "outputs": [
    {
     "data": {
      "text/plain": [
       "[[Muon(4.85949611664, -30.2398738861, 137.776489258, 141.139785767, -1, 0.0)],\n",
       " [Muon(-23.3766021729, -21.3244667053, -21.4867858887, 38.2477645874, 1, 0.518906891346)],\n",
       " [],\n",
       " [],\n",
       " [Muon(21.0245990753, 15.2924814224, 38.0825500488, 46.1105804443, 1, 0.0)]]"
      ]
     },
     "execution_count": 14,
     "metadata": {},
     "output_type": "execute_result"
    }
   ],
   "source": [
    "# aha! a real functional! but does it matter what order I put the \"map\" and the \"take\"?\n",
    "events.map(lambda ev: ev.muons).take(5)"
   ]
  },
  {
   "cell_type": "markdown",
   "metadata": {
    "slideshow": {
     "slide_type": "slide"
    }
   },
   "source": [
    "Filter is a very important functional in high energy physics."
   ]
  },
  {
   "cell_type": "code",
   "execution_count": 15,
   "metadata": {
    "slideshow": {
     "slide_type": "-"
    }
   },
   "outputs": [
    {
     "data": {
      "text/plain": [
       "[Event([], [Muon(6.99902391434, -29.8159313202, -27.4981002808, 41.1598434448, -1, 0.564613461494), Muon(-3.35829114914, 27.4757556915, 40.1783943176, 48.7904701233, 1, 0.261090815067)], [], [], MET(10.4151391983, -3.97507190704), 4),\n",
       " Event([], [Muon(-26.7366104126, 10.1146039963, 3.76086854935, 28.8323936462, -1, 0.0), Muon(13.6701517105, 17.9857158661, -0.509090483189, 22.5971107483, 1, 2.00846838951)], [], [Photon(3.45673298836, -16.5644054413, 22.7657356262, 28.3656005859, 2.19763612747)], MET(13.8460693359, -5.43344545364), 4)]"
      ]
     },
     "execution_count": 15,
     "metadata": {},
     "output_type": "execute_result"
    }
   ],
   "source": [
    "events.take(100).filter(lambda ev: ev.muons.size >= 2)"
   ]
  },
  {
   "cell_type": "markdown",
   "metadata": {
    "slideshow": {
     "slide_type": "slide"
    }
   },
   "source": [
    "Flatten turns pesky lists-of-lists into simple lists."
   ]
  },
  {
   "cell_type": "code",
   "execution_count": 16,
   "metadata": {},
   "outputs": [
    {
     "data": {
      "text/plain": [
       "[[Muon(4.85949611664, -30.2398738861, 137.776489258, 141.139785767, -1, 0.0)],\n",
       " [Muon(-23.3766021729, -21.3244667053, -21.4867858887, 38.2477645874, 1, 0.518906891346)],\n",
       " [],\n",
       " [],\n",
       " [Muon(21.0245990753, 15.2924814224, 38.0825500488, 46.1105804443, 1, 0.0)],\n",
       " [Muon(7.49188518524, -39.8153266907, 19.95195961, 45.1606063843, -1, 4.2009472847)],\n",
       " [Muon(-4.77304172516, 36.630443573, -77.6554260254, 85.9938812256, -1, 1.50938034058)],\n",
       " [Muon(-11.5234136581, -21.5348072052, 3.72992348671, 24.7074985504, 1, 1.42479777336)],\n",
       " [],\n",
       " []]"
      ]
     },
     "execution_count": 16,
     "metadata": {},
     "output_type": "execute_result"
    }
   ],
   "source": [
    "events.map(lambda ev: ev.muons).take(10)"
   ]
  },
  {
   "cell_type": "markdown",
   "metadata": {
    "slideshow": {
     "slide_type": "slide"
    }
   },
   "source": [
    "\"Flatmap\" does \"map\" and \"flatten\" at the same time. It's more than a convenience— it has foundational importance (see [monadic bind](https://en.wikipedia.org/wiki/Monad_%28functional_programming%29)). For our purposes, we can think of it as a way of turning event ntuples into particle ntuples."
   ]
  },
  {
   "cell_type": "code",
   "execution_count": 17,
   "metadata": {},
   "outputs": [
    {
     "data": {
      "text/plain": [
       "[Muon(4.85949611664, -30.2398738861, 137.776489258, 141.139785767, -1, 0.0),\n",
       " Muon(-23.3766021729, -21.3244667053, -21.4867858887, 38.2477645874, 1, 0.518906891346),\n",
       " Muon(21.0245990753, 15.2924814224, 38.0825500488, 46.1105804443, 1, 0.0),\n",
       " Muon(7.49188518524, -39.8153266907, 19.95195961, 45.1606063843, -1, 4.2009472847),\n",
       " Muon(-4.77304172516, 36.630443573, -77.6554260254, 85.9938812256, -1, 1.50938034058),\n",
       " Muon(-11.5234136581, -21.5348072052, 3.72992348671, 24.7074985504, 1, 1.42479777336),\n",
       " Muon(-11.4520206451, 38.0730438232, -113.592842102, 120.349700928, -1, 1.3328255415),\n",
       " Muon(28.8080692291, -22.7943840027, -0.433953642845, 36.7381057739, -1, 2.78090119362),\n",
       " Muon(-40.2335548401, 56.5428123474, 106.151306152, 126.822471619, -1, 0.0),\n",
       " Muon(-45.6868629456, 10.3441486359, -30.7397556305, 56.0288734436, -1, 0.755304992199)]"
      ]
     },
     "execution_count": 17,
     "metadata": {},
     "output_type": "execute_result"
    }
   ],
   "source": [
    "events.flatmap(lambda ev: ev.muons).take(10)   # now a muon ntuple"
   ]
  },
  {
   "cell_type": "markdown",
   "metadata": {
    "slideshow": {
     "slide_type": "slide"
    }
   },
   "source": [
    "\"Reduce\" is fundamentally different: it turns ntuples into aggregations (counts, sums, means, histograms...). All the other functionals we have seen so far turn ntuples into ntuples."
   ]
  },
  {
   "cell_type": "code",
   "execution_count": 18,
   "metadata": {},
   "outputs": [
    {
     "data": {
      "text/plain": [
       "5.888"
      ]
     },
     "execution_count": 18,
     "metadata": {},
     "output_type": "execute_result"
    }
   ],
   "source": [
    "events.map(lambda ev: ev.numPrimaryVertices).take(1000) \\\n",
    "      .reduce(lambda x, y: x + y) / 1000.0"
   ]
  },
  {
   "cell_type": "code",
   "execution_count": null,
   "metadata": {
    "collapsed": true,
    "slideshow": {
     "slide_type": "fragment"
    }
   },
   "outputs": [],
   "source": [
    "def weightAndPrimaryVertices(ev):\n",
    "    return (1.0, ev.numPrimaryVertices)\n",
    "\n",
    "def averageOnTheFly(x, y):\n",
    "    wx, x = x\n",
    "    wy, y = y\n",
    "    return (wx + wy), (wx*x + wy*y)/(wx + wy)"
   ]
  },
  {
   "cell_type": "markdown",
   "metadata": {
    "slideshow": {
     "slide_type": "slide"
    }
   },
   "source": [
    "Reduce has a hidden limitation: it combines pairs of elements, using the result as part of the next pair. So what if you want to make an aggregation that is of a different type than the elements you're combining?"
   ]
  },
  {
   "cell_type": "code",
   "execution_count": 19,
   "metadata": {},
   "outputs": [
    {
     "data": {
      "text/plain": [
       "-18.51710605621338"
      ]
     },
     "execution_count": 19,
     "metadata": {},
     "output_type": "execute_result"
    }
   ],
   "source": [
    "events.flatmap(lambda ev: ev.muons).take(2).reduce(lambda mu1, mu2: mu1.px + mu2.px)"
   ]
  },
  {
   "cell_type": "code",
   "execution_count": 20,
   "metadata": {
    "scrolled": false,
    "slideshow": {
     "slide_type": "slide"
    }
   },
   "outputs": [
    {
     "data": {
      "text/plain": [
       "<matplotlib.axes._subplots.AxesSubplot at 0x7e5e2c2dc750>"
      ]
     },
     "execution_count": 20,
     "metadata": {},
     "output_type": "execute_result"
    },
    {
     "data": {
      "image/png": "[encoded data removed]",
      "text/plain": [
       "<matplotlib.figure.Figure at 0x7e5e2c332b50>"
      ]
     },
     "metadata": {},
     "output_type": "display_data"
    }
   ],
   "source": [
    "from histogrammar import *\n",
    "from math import sqrt\n",
    "\n",
    "hist = Bin(100, 0, 500, lambda muon: sqrt(muon.px**2 + muon.py**2 + muon.pz**2))\n",
    "\n",
    "for muon in events.flatmap(lambda ev: ev.muons).take(10000):\n",
    "    hist.fill(muon)     # not functional! this statement changes \"hist\"\n",
    "\n",
    "hist.plot.matplotlib()"
   ]
  },
  {
   "cell_type": "markdown",
   "metadata": {
    "slideshow": {
     "slide_type": "slide"
    }
   },
   "source": [
    "Well, there's an app for that."
   ]
  },
  {
   "cell_type": "code",
   "execution_count": 21,
   "metadata": {},
   "outputs": [
    {
     "data": {
      "text/plain": [
       "<Bin num=100 low=0.0 high=500.0 values=Count underflow=Count overflow=Count nanflow=Count>"
      ]
     },
     "execution_count": 21,
     "metadata": {},
     "output_type": "execute_result"
    }
   ],
   "source": [
    "def newhist():\n",
    "    return Bin(100, 0, 500, lambda muon: sqrt(muon.px**2 + muon.py**2 + muon.pz**2))\n",
    "\n",
    "def filled(histogram, muon):\n",
    "    h = newhist()\n",
    "    h.fill(muon)\n",
    "    return histogram + h\n",
    "\n",
    "events.flatmap(lambda ev: ev.muons).take(100).aggregate(filled, zero=newhist())   # functional (but slow)"
   ]
  },
  {
   "cell_type": "markdown",
   "metadata": {},
   "source": [
    "Generally, doing useful work with functional programming means being familiar with a toolset of handy combinators and knowing their mathematical properties."
   ]
  },
  {
   "cell_type": "markdown",
   "metadata": {
    "slideshow": {
     "slide_type": "slide"
    }
   },
   "source": [
    "Here's a nice one. Histogramming is important enough to be a standard combinator."
   ]
  },
  {
   "cell_type": "code",
   "execution_count": 22,
   "metadata": {},
   "outputs": [
    {
     "data": {
      "text/plain": [
       "<matplotlib.axes._subplots.AxesSubplot at 0x7e5e267aa250>"
      ]
     },
     "execution_count": 22,
     "metadata": {},
     "output_type": "execute_result"
    },
    {
     "data": {
      "image/png": "[encoded data removed]",
      "text/plain": [
       "<matplotlib.figure.Figure at 0x7e5e2679ff10>"
      ]
     },
     "metadata": {},
     "output_type": "display_data"
    }
   ],
   "source": [
    "events.flatmap(lambda ev: ev.muons).take(10000) \\\n",
    "      .Bin(100, 0, 500, lambda muon: sqrt(muon.px**2 + muon.py**2 + muon.pz**2)) \\\n",
    "      .plot.matplotlib()"
   ]
  },
  {
   "cell_type": "markdown",
   "metadata": {
    "slideshow": {
     "slide_type": "slide"
    }
   },
   "source": [
    "Taking away the `for` loop is like taking away `GOTO`. The programmer has less power but the code better expresses the programmer's intent.\n",
    "\n",
    "Solving the domain-specific problem (physics) and optimizing the calculation are better separated. If you _want_ to think about performance issues, you edit the underlying library, not the physics code."
   ]
  },
  {
   "cell_type": "markdown",
   "metadata": {
    "slideshow": {
     "slide_type": "slide"
    }
   },
   "source": [
    "Guided challenge: the following shows how you can use nested `map` combinators to emulate a nested `for` loop. However, the output has too much structure— we can't plot it this way.\n",
    "\n",
    "Eliminate the unwanted structure and make a plot of 1000 dimuon masses."
   ]
  },
  {
   "cell_type": "code",
   "execution_count": 23,
   "metadata": {},
   "outputs": [
    {
     "data": {
      "text/plain": [
       "[[[[], [88.9468251097268]], [[88.9468251097268], []]],\n",
       " [[[], [40.915272726635216]], [[40.915272726635216], []]],\n",
       " [[[], [89.88667775372531]], [[89.88667775372531], []]],\n",
       " [[[], [92.50889570173612]], [[92.50889570173612], []]],\n",
       " [[[], [87.33151684752877]], [[87.33151684752877], []]],\n",
       " [[[], [86.73589857883964]], [[86.73589857883964], []]],\n",
       " [[[], [17.215447985795976]], [[17.215447985795976], []]],\n",
       " [[[], [90.59405647767977]], [[90.59405647767977], []]],\n",
       " [[[], [99.54980031423942]], [[99.54980031423942], []]],\n",
       " [[[], [90.16057143550684]], [[90.16057143550684], []]]]"
      ]
     },
     "execution_count": 23,
     "metadata": {},
     "output_type": "execute_result"
    }
   ],
   "source": [
    "def dimuon(muon1, muon2):                # trick to map and filter in one function:\n",
    "    if muon1 == muon2:\n",
    "        return []                        # if the candidate doesn't pass cuts, return []\n",
    "    else:\n",
    "        return [(muon1 + muon2).mass]    # otherwise return singleton list\n",
    "\n",
    "goodevents = events.filter(lambda ev: ev.muons.size > 1)\n",
    "\n",
    "goodevents.map(lambda ev: ev.muons.map(lambda mu1: ev.muons.map(lambda mu2: dimuon(mu1, mu2)))).take(10)"
   ]
  },
  {
   "cell_type": "markdown",
   "metadata": {
    "slideshow": {
     "slide_type": "slide"
    }
   },
   "source": [
    "Of course, for something as common as nested `for` loops, we'd have standard combinators."
   ]
  },
  {
   "cell_type": "code",
   "execution_count": 24,
   "metadata": {
    "scrolled": true
   },
   "outputs": [
    {
     "data": {
      "text/plain": [
       "<matplotlib.axes._subplots.AxesSubplot at 0x7e5e264b4e90>"
      ]
     },
     "execution_count": 24,
     "metadata": {},
     "output_type": "execute_result"
    },
    {
     "data": {
      "image/png": "[encoded data removed]",
      "text/plain": [
       "<matplotlib.figure.Figure at 0x7e5e264b4950>"
      ]
     },
     "metadata": {},
     "output_type": "display_data"
    }
   ],
   "source": [
    "goodevents.flatmap(lambda ev: ev.muons.pairs(lambda mu1, mu2: (mu1 + mu2).mass)) \\\n",
    "          .take(1000).Bin(120, 60, 120, identity).plot.matplotlib()"
   ]
  },
  {
   "cell_type": "markdown",
   "metadata": {
    "slideshow": {
     "slide_type": "slide"
    }
   },
   "source": [
    "Challenge: compute and plot `deltaR` for every muon-jet pair. (Don't use `for` loops!)"
   ]
  },
  {
   "cell_type": "code",
   "execution_count": 26,
   "metadata": {},
   "outputs": [],
   "source": [
    "from math import *\n",
    "\n",
    "def deltaphi(particle1, particle2):\n",
    "    return (particle1.phi - particle2.phi) % (2*pi) - pi\n",
    "\n",
    "def deltaeta(particle1, particle2):\n",
    "    return particle1.eta - particle2.eta\n",
    "\n",
    "def deltaR(particle1, particle2):\n",
    "    return sqrt(deltaphi(particle1, particle2)**2 + deltaeta(particle1, particle2)**2)\n",
    "\n",
    "goodevents = events.filter(lambda ev: ev.muons.size > 0 and ev.jets.size > 0).take(1000)"
   ]
  },
  {
   "cell_type": "code",
   "execution_count": null,
   "metadata": {},
   "outputs": [],
   "source": [
    "# goodevents. ...?"
   ]
  },
  {
   "cell_type": "code",
   "execution_count": 27,
   "metadata": {},
   "outputs": [
    {
     "name": "stdout",
     "output_type": "stream",
     "text": [
      "Help on function [...].UntypedLabel in [...]:\n",
      "\n",
      "[...].UntypedLabel(*args, **kwds)\n",
      "    Accumulate any number of aggregators of any type and label them with strings. Every sub-aggregator is filled with every input datum.\n",
      "    \n",
      "    This primitive simulates a directory of aggregators. For sub-directories, nest collections within the Bundle.\n",
      "    \n",
      "    Note that sub-aggregators within an Bundle may have *different types*. In strongly typed languages, this flexibility poses a problem: nested objects must be type-cast before they can be used. To collect objects of the *same type* with string-based look-up keys, use :doc:`Label <histogrammar.primitives.collection.Label>`.\n",
      "    \n",
      "    To collect aggregators of the *same type* without naming them, use :doc:`Index <histogrammar.primitives.collection.Index>`. To collect aggregators of *different types* without naming them, use :doc:`Branch <histogrammar.primitives.collection.Branch>`.\n",
      "\n"
     ]
    }
   ],
   "source": [
    "help([].Bundle)"
   ]
  },
  {
   "cell_type": "code",
   "execution_count": null,
   "metadata": {
    "collapsed": true
   },
   "outputs": [],
   "source": []
  }
 ],
 "metadata": {
  "celltoolbar": "Slideshow",
  "kernelspec": {
   "display_name": "Python 2",
   "language": "python",
   "name": "python2"
  },
  "language_info": {
   "codemirror_mode": {
    "name": "ipython",
    "version": 2
   },
   "file_extension": ".py",
   "mimetype": "text/x-python",
   "name": "python",
   "nbconvert_exporter": "python",
   "pygments_lexer": "ipython2",
   "version": "2.7.6"
  }
 },
 "nbformat": 4,
 "nbformat_minor": 1
}
