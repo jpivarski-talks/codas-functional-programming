{
 "cells": [
  {
   "cell_type": "markdown",
   "metadata": {
    "slideshow": {
     "slide_type": "slide"
    }
   },
   "source": [
    "# Functional Programming for Data Analysis\n",
    "\n",
    "### Jim Pivarski\n",
    "\n",
    "Fourth notebook: Scala"
   ]
  },
  {
   "cell_type": "markdown",
   "metadata": {
    "slideshow": {
     "slide_type": "slide"
    }
   },
   "source": [
    "Scala is a functional programming language, like Haskell but not as strict, and it runs on the Java Virtual Machine (JVM).\n",
    "\n",
    "This last point makes it harder to integrate into physics applications, but easier to integrate into business analytics, since most computing infrastructure in industry is based on Java, rather than C++."
   ]
  },
  {
   "cell_type": "markdown",
   "metadata": {
    "slideshow": {
     "slide_type": "slide"
    }
   },
   "source": [
    "Scala is also Spark's native tongue: Spark was written in Scala and provides Java, Python, and R interfaces as a convenience.\n",
    "\n",
    "Python programming in Spark is not efficient. If you're going to be doing any architectural work in Spark, you should use Scala."
   ]
  },
  {
   "cell_type": "markdown",
   "metadata": {
    "slideshow": {
     "slide_type": "slide"
    }
   },
   "source": [
    "Scala also provides an example of type-safe functional programming, which provides better errors and safety when building large applications.\n",
    "\n",
    "It also has pattern-matching, which my \"functional playground\" in Python lacks."
   ]
  },
  {
   "cell_type": "markdown",
   "metadata": {
    "slideshow": {
     "slide_type": "slide"
    }
   },
   "source": [
    "<img src=\"http://2.bp.blogspot.com/_r-NJO1NMiu4/TRA69XdCU8I/AAAAAAAAAnM/Re0VElAeLc4/s1600/ds_2_new.gif\" style=\"margin-left: auto; margin-right: auto;\">"
   ]
  },
  {
   "cell_type": "code",
   "execution_count": 6,
   "metadata": {
    "slideshow": {
     "slide_type": "slide"
    }
   },
   "outputs": [
    {
     "data": {
      "text/plain": [
       "\u001b[36midentifier\u001b[39m: \u001b[32mChar\u001b[39m = \u001b[32m'A'\u001b[39m\n",
       "defined \u001b[32mfunction\u001b[39m \u001b[36mmessage\u001b[39m\n",
       "defined \u001b[32mobject\u001b[39m \u001b[36mTreeList\u001b[39m\n",
       "defined \u001b[32mclass\u001b[39m \u001b[36mTreeList\u001b[39m"
      ]
     },
     "execution_count": 6,
     "metadata": {},
     "output_type": "execute_result"
    }
   ],
   "source": [
    "var identifier = 'A'\n",
    "\n",
    "def message(id: Char) =\n",
    "    if (id.toByte > 'G'.toByte)\n",
    "        \"    <-- new node\"\n",
    "    else\n",
    "        \"\"\n",
    "\n",
    "object TreeList {\n",
    "    def apply[T](values: T*): TreeList[T] = {\n",
    "        val (value, children) = values.toList match {\n",
    "            case Nil => throw new Exception(\"cannot be empty\")\n",
    "            case one :: Nil => (one, List())\n",
    "            case first :: rest =>\n",
    "                val (left, right) = rest.splitAt(rest.size / 2)\n",
    "                (first, List(left, right).flatMap({\n",
    "                    case Nil => List()\n",
    "                    case x => List(TreeList(x: _*))\n",
    "                }))\n",
    "        }\n",
    "\n",
    "        new TreeList(value, children)\n",
    "    }\n",
    "}\n",
    "class TreeList[T](val value: T, val children: List[TreeList[T]]) {\n",
    "    val id = identifier\n",
    "    identifier = (identifier.toByte + 1).toChar\n",
    "\n",
    "    def toString(indent: String): String = {\n",
    "        val prefix = \"\\n%s%s: value %s%s\".format(indent, id, value, message(id))\n",
    "        val subtrees = children.map(_.toString(indent + \"    \"))\n",
    "        (prefix :: subtrees).mkString\n",
    "    }\n",
    "    override def toString() = toString(\"\")\n",
    "\n",
    "    def size: Int = 1 + children.map(_.size).sum\n",
    "    \n",
    "    def toList: List[T] = value +: children.flatMap(_.toList)\n",
    "    \n",
    "    def get(index: Int): T = index match {\n",
    "        case 0 => value\n",
    "        case i if i - 1 < children.head.size => children.head.get(i - 1)\n",
    "        case i => children.last.get(i - 1 - children.head.size)\n",
    "    }\n",
    "    \n",
    "    def inserted(index: Int, newval: T): TreeList[T] = index match {\n",
    "        case 0 =>\n",
    "            new TreeList(value, List(new TreeList(newval, children)))\n",
    "        case i if i - 1 < children.head.size =>\n",
    "            new TreeList(value, children.head.inserted(i - 1, newval) :: children.tail)\n",
    "        case i =>\n",
    "            new TreeList(value, List(children.head, children.last.inserted(i - 1 - children.head.size, newval)))\n",
    "    }\n",
    "}"
   ]
  },
  {
   "cell_type": "code",
   "execution_count": 7,
   "metadata": {
    "slideshow": {
     "slide_type": "slide"
    }
   },
   "outputs": [
    {
     "data": {
      "text/plain": [
       "\u001b[36mxs\u001b[39m: \u001b[32mTreeList\u001b[39m[\u001b[32mInt\u001b[39m] = \n",
       "G: value 1\n",
       "    C: value 2\n",
       "        A: value 3\n",
       "        B: value 4\n",
       "    F: value 5\n",
       "        D: value 6\n",
       "        E: value 7\n",
       "\u001b[36mres6_2\u001b[39m: \u001b[32mList\u001b[39m[\u001b[32mInt\u001b[39m] = \u001b[33mList\u001b[39m(\u001b[32m1\u001b[39m, \u001b[32m2\u001b[39m, \u001b[32m3\u001b[39m, \u001b[32m4\u001b[39m, \u001b[32m5\u001b[39m, \u001b[32m6\u001b[39m, \u001b[32m7\u001b[39m)"
      ]
     },
     "execution_count": 7,
     "metadata": {},
     "output_type": "execute_result"
    }
   ],
   "source": [
    "identifier = 'A'\n",
    "val xs = TreeList(1, 2, 3, 4, 5, 6, 7)\n",
    "xs.toList"
   ]
  },
  {
   "cell_type": "code",
   "execution_count": 8,
   "metadata": {
    "slideshow": {
     "slide_type": "-"
    }
   },
   "outputs": [
    {
     "data": {
      "text/plain": [
       "\u001b[36mys\u001b[39m: \u001b[32mTreeList\u001b[39m[\u001b[32mInt\u001b[39m] = \n",
       "K: value 1    <-- new node\n",
       "    C: value 2\n",
       "        A: value 3\n",
       "        B: value 4\n",
       "    J: value 5    <-- new node\n",
       "        I: value 6    <-- new node\n",
       "            H: value 999    <-- new node\n",
       "        E: value 7\n",
       "\u001b[36mres7_1\u001b[39m: \u001b[32mList\u001b[39m[\u001b[32mInt\u001b[39m] = \u001b[33mList\u001b[39m(\u001b[32m1\u001b[39m, \u001b[32m2\u001b[39m, \u001b[32m3\u001b[39m, \u001b[32m4\u001b[39m, \u001b[32m5\u001b[39m, \u001b[32m6\u001b[39m, \u001b[32m999\u001b[39m, \u001b[32m7\u001b[39m)"
      ]
     },
     "execution_count": 8,
     "metadata": {},
     "output_type": "execute_result"
    }
   ],
   "source": [
    "val ys = xs.inserted(5, 999)\n",
    "ys.toList"
   ]
  }
 ],
 "metadata": {
  "celltoolbar": "Slideshow",
  "kernelspec": {
   "display_name": "Scala",
   "language": "scala",
   "name": "scala"
  },
  "language_info": {
   "codemirror_mode": "text/x-scala",
   "file_extension": ".scala",
   "mimetype": "text/x-scala",
   "name": "scala211",
   "nbconvert_exporter": "script",
   "pygments_lexer": "scala",
   "version": "2.11.11"
  }
 },
 "nbformat": 4,
 "nbformat_minor": 1
}
