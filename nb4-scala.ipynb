{
 "cells": [
  {
   "cell_type": "markdown",
   "metadata": {
    "slideshow": {
     "slide_type": "slide"
    }
   },
   "source": [
    "# Functional Programming for Data Analysis\n",
    "\n",
    "### Jim Pivarski\n",
    "\n",
    "Third notebook: Scala"
   ]
  },
  {
   "cell_type": "markdown",
   "metadata": {
    "slideshow": {
     "slide_type": "slide"
    }
   },
   "source": [
    "Scala is a functional programming language, like Haskell but not as strict, and it runs on the Java Virtual Machine (JVM).\n",
    "\n",
    "This last point makes it harder to integrate into physics applications, but easier to integrate into business analytics, since most computing infrastructure in industry is based on Java, rather than C++."
   ]
  },
  {
   "cell_type": "markdown",
   "metadata": {
    "slideshow": {
     "slide_type": "slide"
    }
   },
   "source": [
    "Scala is also Spark's native tongue: Spark was written in Scala and provides Java, Python, and R interfaces as a convenience.\n",
    "\n",
    "<img src=\"https://spark.apache.org/images/spark-logo-trademark.png\" style=\"width: 400px; margin-left: auto; margin-right: auto;\">\n",
    "\n",
    "Python programming in Spark is not efficient. If you're going to be doing any architectural work in Spark, you should use Scala."
   ]
  },
  {
   "cell_type": "markdown",
   "metadata": {
    "slideshow": {
     "slide_type": "slide"
    }
   },
   "source": [
    "Scala also provides an example of type-safe functional programming, which has better error messages and safety when building large applications.\n",
    "\n",
    "It also has pattern-matching, which my \"functional playground\" in Python lacks."
   ]
  },
  {
   "cell_type": "code",
   "execution_count": 48,
   "metadata": {
    "slideshow": {
     "slide_type": "slide"
    }
   },
   "outputs": [
    {
     "data": {
      "text/plain": [
       "\u001b[36mxs\u001b[39m: \u001b[32mList\u001b[39m[\u001b[32mInt\u001b[39m] = \u001b[33mList\u001b[39m(\u001b[32m1\u001b[39m, \u001b[32m2\u001b[39m, \u001b[32m3\u001b[39m, \u001b[32m4\u001b[39m, \u001b[32m5\u001b[39m)\n",
       "\u001b[36mys\u001b[39m: \u001b[32mList\u001b[39m[\u001b[32mInt\u001b[39m] = \u001b[33mList\u001b[39m(\u001b[32m1\u001b[39m, \u001b[32m2\u001b[39m, \u001b[32m3\u001b[39m)\n",
       "defined \u001b[32mfunction\u001b[39m \u001b[36msquared\u001b[39m\n",
       "\u001b[36mres47_3\u001b[39m: \u001b[32mList\u001b[39m[\u001b[32mInt\u001b[39m] = \u001b[33mList\u001b[39m(\u001b[32m1\u001b[39m, \u001b[32m4\u001b[39m, \u001b[32m9\u001b[39m, \u001b[32m16\u001b[39m, \u001b[32m25\u001b[39m)\n",
       "\u001b[36mres47_4\u001b[39m: \u001b[32mList\u001b[39m[\u001b[32mInt\u001b[39m] = \u001b[33mList\u001b[39m(\u001b[32m2\u001b[39m, \u001b[32m3\u001b[39m, \u001b[32m4\u001b[39m, \u001b[32m5\u001b[39m, \u001b[32m6\u001b[39m)\n",
       "\u001b[36mres47_5\u001b[39m: \u001b[32mList\u001b[39m[\u001b[32mInt\u001b[39m] = \u001b[33mList\u001b[39m(\u001b[32m2\u001b[39m, \u001b[32m4\u001b[39m, \u001b[32m6\u001b[39m, \u001b[32m8\u001b[39m, \u001b[32m10\u001b[39m)\n",
       "\u001b[36mres47_6\u001b[39m: \u001b[32mList\u001b[39m[\u001b[32mInt\u001b[39m] = \u001b[33mList\u001b[39m(\u001b[32m2\u001b[39m, \u001b[32m3\u001b[39m, \u001b[32m4\u001b[39m, \u001b[32m5\u001b[39m, \u001b[32m6\u001b[39m)"
      ]
     },
     "execution_count": 48,
     "metadata": {},
     "output_type": "execute_result"
    }
   ],
   "source": [
    "// Crash course in Scala syntax\n",
    "\n",
    "val xs = List(1, 2, 3, 4, 5)    // statically typed, but inferred (like C++'s \"auto\")\n",
    "\n",
    "val ys = 1 :: 2 :: 3 :: Nil     // some syntax is meant to appeal to Haskell fans\n",
    "\n",
    "def squared(x: Int) = x * x     // when required, types are capitalized and after colons\n",
    "\n",
    "xs.map(squared)\n",
    "\n",
    "xs.map(x => x + 1)              // short lambda syntax\n",
    "\n",
    "xs.map(_ * 2)                   // even shorter for special cases (one argument, no type)\n",
    "\n",
    "xs map {x => x + 1}             // dots and parentheses aren't always needed (again, like Haskel)"
   ]
  },
  {
   "cell_type": "markdown",
   "metadata": {
    "slideshow": {
     "slide_type": "slide"
    }
   },
   "source": [
    "## Getting some data\n",
    "\n",
    "These are the same CMS public data events as last time, now viewed as Scala objects.\n",
    "\n",
    "(Also note that we're installing software and loading it interactively; one of Java's features is zero-hassle installation.)"
   ]
  },
  {
   "cell_type": "code",
   "execution_count": 49,
   "metadata": {
    "scrolled": true
   },
   "outputs": [
    {
     "data": {
      "text/plain": [
       "\u001b[32mimport \u001b[39m\u001b[36m$ivy.$                                      \u001b[39m"
      ]
     },
     "execution_count": 49,
     "metadata": {},
     "output_type": "execute_result"
    }
   ],
   "source": [
    "import $ivy.`org.diana-hep:histogrammar_2.11:1.0.4`"
   ]
  },
  {
   "cell_type": "code",
   "execution_count": 50,
   "metadata": {
    "slideshow": {
     "slide_type": "slide"
    }
   },
   "outputs": [
    {
     "data": {
      "text/plain": [
       "\u001b[32mimport \u001b[39m\u001b[36morg.dianahep.histogrammar.tutorial.cmsdata\n",
       "\u001b[39m\n",
       "\u001b[36mevents\u001b[39m: \u001b[32mList\u001b[39m[\u001b[32mcmsdata\u001b[39m.\u001b[32mEvent\u001b[39m] = \u001b[33mList\u001b[39m(\n",
       "  \u001b[33mEvent\u001b[39m(\n",
       "    \u001b[33mList\u001b[39m(),\n",
       "    \u001b[33mList\u001b[39m(\n",
       "      \u001b[33mMuon\u001b[39m(\n",
       "        \u001b[32m4.8594961166381845\u001b[39m,\n",
       "        \u001b[32m-30.2398738861084\u001b[39m,\n",
       "        \u001b[32m137.7764892578125\u001b[39m,\n",
       "        \u001b[32m141.13978576660156\u001b[39m,\n",
       "        \u001b[32m-1\u001b[39m,\n",
       "        \u001b[32m0.0\u001b[39m\n",
       "      )\n",
       "\u001b[33m...\u001b[39m"
      ]
     },
     "execution_count": 50,
     "metadata": {},
     "output_type": "execute_result"
    }
   ],
   "source": [
    "import org.dianahep.histogrammar.tutorial.cmsdata\n",
    "val events = cmsdata.EventIterator().take(1000).toList"
   ]
  },
  {
   "cell_type": "markdown",
   "metadata": {
    "slideshow": {
     "slide_type": "slide"
    }
   },
   "source": [
    "Not coincidentally, the Scala functionals have mostly the same names as mine."
   ]
  },
  {
   "cell_type": "code",
   "execution_count": 51,
   "metadata": {},
   "outputs": [
    {
     "data": {
      "text/plain": [
       "\u001b[36mres50\u001b[39m: \u001b[32mList\u001b[39m[\u001b[32mDouble\u001b[39m] = \u001b[33mList\u001b[39m(\n",
       "  \u001b[32m30.62784150336687\u001b[39m,\n",
       "  \u001b[32m31.641719444653546\u001b[39m,\n",
       "  \u001b[32m25.997956733809474\u001b[39m,\n",
       "  \u001b[32m40.514054143148\u001b[39m,\n",
       "  \u001b[32m36.94010454322916\u001b[39m,\n",
       "  \u001b[32m24.424106610105476\u001b[39m,\n",
       "  \u001b[32m39.758086508574195\u001b[39m,\n",
       "  \u001b[32m36.73538886104245\u001b[39m,\n",
       "  \u001b[32m69.39617109916814\u001b[39m,\n",
       "  \u001b[32m46.84325839229087\u001b[39m\n",
       ")"
      ]
     },
     "execution_count": 51,
     "metadata": {},
     "output_type": "execute_result"
    }
   ],
   "source": [
    "// sequential calculation\n",
    "events.flatMap(_.muons).map(_.pt).take(10)"
   ]
  },
  {
   "cell_type": "code",
   "execution_count": 52,
   "metadata": {
    "slideshow": {
     "slide_type": "fragment"
    }
   },
   "outputs": [
    {
     "data": {
      "text/plain": [
       "\u001b[36mres51\u001b[39m: \u001b[32mcollection\u001b[39m.\u001b[32mparallel\u001b[39m.\u001b[32mimmutable\u001b[39m.\u001b[32mParSeq\u001b[39m[\u001b[32mDouble\u001b[39m] = ParVector(30.62784150336687, 31.641719444653546, 25.997956733809474, 40.514054143148, 36.94010454322916, 24.424106610105476, 39.758086508574195, 36.73538886104245, 69.39617109916814, 46.84325839229087)"
      ]
     },
     "execution_count": 52,
     "metadata": {},
     "output_type": "execute_result"
    }
   ],
   "source": [
    "// parallel calculation (just add \".par\" to use all your cores)\n",
    "events.par.flatMap(_.muons).map(_.pt).take(10)"
   ]
  },
  {
   "cell_type": "markdown",
   "metadata": {
    "slideshow": {
     "slide_type": "slide"
    }
   },
   "source": [
    "## Pattern matching\n",
    "\n",
    "The most idiomatic Scala code compares values against expected patterns, like regular expressions, but for objects."
   ]
  },
  {
   "cell_type": "code",
   "execution_count": 53,
   "metadata": {
    "slideshow": {
     "slide_type": "slide"
    }
   },
   "outputs": [
    {
     "name": "stdout",
     "output_type": "stream",
     "text": [
      "no muons\n",
      "one muon E=30.0587\n",
      "no muons\n",
      "no muons\n",
      "no muons\n",
      "no muons\n",
      "no muons\n",
      "two muons, mass=88.9468\n",
      "one antimuon E=157.522\n",
      "no muons\n",
      "one antimuon E=34.7609\n",
      "no muons\n",
      "no muons\n",
      "one antimuon E=41.8070\n",
      "one antimuon E=100.073\n",
      "one muon E=161.699\n",
      "no muons\n",
      "no muons\n",
      "no muons\n",
      "no muons\n"
     ]
    }
   ],
   "source": [
    "events.drop(30).take(20).map(_.muons) foreach {\n",
    "    case List() =>\n",
    "        println(\"no muons\")\n",
    "    \n",
    "    case List(cmsdata.Muon(px, py, pz, energy, q, iso)) =>\n",
    "        println(\"one %smuon E=%g\".format(if (q < 0) \"anti\" else \"\", energy))\n",
    "    \n",
    "    case List(one, two) =>\n",
    "        println(\"two muons, mass=%g\".format((one + two).mass))\n",
    "    \n",
    "    case muons =>\n",
    "        println(\"yikes! %d muons!\".format(muons.size))\n",
    "}"
   ]
  },
  {
   "cell_type": "markdown",
   "metadata": {
    "slideshow": {
     "slide_type": "slide"
    }
   },
   "source": [
    "## Immutable data\n",
    "\n",
    "Remember `x = x + 1`? This mathematically false assertion (unless `x` is infinite) is tolerated in programming because we've gotten used to the idea that values change.\n",
    "\n",
    "But if we really want the computer to be a mathematical scratchpad, values should be immutable (unchangeable once created).\n",
    "\n",
    "This has some far-reaching consequences."
   ]
  },
  {
   "cell_type": "markdown",
   "metadata": {
    "slideshow": {
     "slide_type": "slide"
    }
   },
   "source": [
    "   * A programming _statement_ can do nothing other than cause change. If all data are immutable, there's no reason to have statements anymore (`for` loops become useless, only combinators like `map` are able to do anything)."
   ]
  },
  {
   "cell_type": "markdown",
   "metadata": {
    "slideshow": {
     "slide_type": "fragment"
    }
   },
   "source": [
    "   * Vastly simplifies _distributed data._ Whenever two computers see the same value, they are always looking at unliked copies of it: they can't change it without introducing inconsistencies. (And chasing inconsistencies in a distributed system is madness incarnate!)"
   ]
  },
  {
   "cell_type": "markdown",
   "metadata": {
    "slideshow": {
     "slide_type": "fragment"
    }
   },
   "source": [
    "   * Opens the door to _structural sharing,_ which improves performance over copying (next slide)."
   ]
  },
  {
   "cell_type": "markdown",
   "metadata": {
    "slideshow": {
     "slide_type": "slide"
    }
   },
   "source": [
    "## Structural sharing\n",
    "\n",
    "<table>\n",
    "<tr style=\"background-color: white;\"><td><span style=\"font-family: Lato, sans-serif; font-size: 35.84px\">When <i>all</i> values are immutable, we can dramatically reduce the memory required for tree-like data structures by refusing to copy the ones that don't change in a transformation.</span></td><td style=\"width: 600px;\"><img src=\"http://2.bp.blogspot.com/_r-NJO1NMiu4/TRA69XdCU8I/AAAAAAAAAnM/Re0VElAeLc4/s1600/ds_2_new.gif\" style=\"margin-left: auto; margin-right: auto; width: 100%\"></td></tr>\n",
    "</table>\n",
    "\n",
    "Totally immutable with structural sharing is a different sweet spot for performance than traditional transform-in-place, but it's often safer and easier to parallelize."
   ]
  },
  {
   "cell_type": "code",
   "execution_count": 54,
   "metadata": {
    "slideshow": {
     "slide_type": "slide"
    }
   },
   "outputs": [
    {
     "data": {
      "text/plain": [
       "\u001b[36midentifier\u001b[39m: \u001b[32mChar\u001b[39m = \u001b[32m'A'\u001b[39m\n",
       "defined \u001b[32mfunction\u001b[39m \u001b[36mmessage\u001b[39m\n",
       "defined \u001b[32mobject\u001b[39m \u001b[36mTreeList\u001b[39m\n",
       "defined \u001b[32mclass\u001b[39m \u001b[36mTreeList\u001b[39m"
      ]
     },
     "execution_count": 54,
     "metadata": {},
     "output_type": "execute_result"
    }
   ],
   "source": [
    "var identifier = 'A'\n",
    "\n",
    "def message(id: Char) =\n",
    "    if (id.toByte > 'G'.toByte)\n",
    "        \"    <-- new node\"\n",
    "    else\n",
    "        \"\"\n",
    "\n",
    "object TreeList {\n",
    "    def apply[T](values: T*): TreeList[T] = {\n",
    "        val (value, children) = values.toList match {\n",
    "            case Nil => throw new Exception(\"cannot be empty\")\n",
    "            case one :: Nil => (one, List())\n",
    "            case first :: rest =>\n",
    "                val (left, right) = rest.splitAt(rest.size / 2)\n",
    "                (first, List(left, right).flatMap({\n",
    "                    case Nil => List()\n",
    "                    case x => List(TreeList(x: _*))\n",
    "                }))\n",
    "        }\n",
    "\n",
    "        new TreeList(value, children)\n",
    "    }\n",
    "}\n",
    "class TreeList[T](val value: T, val children: List[TreeList[T]]) {\n",
    "    val id = identifier\n",
    "    identifier = (identifier.toByte + 1).toChar\n",
    "\n",
    "    def toString(indent: String): String = {\n",
    "        val prefix = \"\\n%s%s: value %s%s\".format(indent, id, value, message(id))\n",
    "        val subtrees = children.map(_.toString(indent + \"    \"))\n",
    "        (prefix :: subtrees).mkString\n",
    "    }\n",
    "    override def toString() = toString(\"\")\n",
    "\n",
    "    def size: Int = 1 + children.map(_.size).sum\n",
    "    \n",
    "    def toList: List[T] = value +: children.flatMap(_.toList)\n",
    "    \n",
    "    def get(index: Int): T = index match {\n",
    "        case 0 => value\n",
    "        case i if i - 1 < children.head.size => children.head.get(i - 1)\n",
    "        case i => children.last.get(i - 1 - children.head.size)\n",
    "    }\n",
    "    \n",
    "    def inserted(index: Int, newval: T): TreeList[T] = index match {\n",
    "        case 0 =>\n",
    "            new TreeList(value, List(new TreeList(newval, children)))\n",
    "        case i if i - 1 < children.head.size =>\n",
    "            new TreeList(value, children.head.inserted(i - 1, newval) :: children.tail)\n",
    "        case i =>\n",
    "            new TreeList(value, List(children.head, children.last.inserted(i - 1 - children.head.size, newval)))\n",
    "    }\n",
    "}"
   ]
  },
  {
   "cell_type": "code",
   "execution_count": 55,
   "metadata": {
    "slideshow": {
     "slide_type": "slide"
    }
   },
   "outputs": [
    {
     "data": {
      "text/plain": [
       "\u001b[36mxs\u001b[39m: \u001b[32mTreeList\u001b[39m[\u001b[32mInt\u001b[39m] = \n",
       "G: value 0\n",
       "    C: value 1\n",
       "        A: value 2\n",
       "        B: value 3\n",
       "    F: value 4\n",
       "        D: value 5\n",
       "        E: value 6\n",
       "\u001b[36mres54_2\u001b[39m: \u001b[32mList\u001b[39m[\u001b[32mInt\u001b[39m] = \u001b[33mList\u001b[39m(\u001b[32m0\u001b[39m, \u001b[32m1\u001b[39m, \u001b[32m2\u001b[39m, \u001b[32m3\u001b[39m, \u001b[32m4\u001b[39m, \u001b[32m5\u001b[39m, \u001b[32m6\u001b[39m)"
      ]
     },
     "execution_count": 55,
     "metadata": {},
     "output_type": "execute_result"
    }
   ],
   "source": [
    "identifier = 'A'\n",
    "val xs = TreeList(0, 1, 2, 3, 4, 5, 6)\n",
    "xs.toList"
   ]
  },
  {
   "cell_type": "code",
   "execution_count": 56,
   "metadata": {
    "slideshow": {
     "slide_type": "-"
    }
   },
   "outputs": [
    {
     "data": {
      "text/plain": [
       "\u001b[36mys\u001b[39m: \u001b[32mTreeList\u001b[39m[\u001b[32mInt\u001b[39m] = \n",
       "K: value 0    <-- new node\n",
       "    C: value 1\n",
       "        A: value 2\n",
       "        B: value 3\n",
       "    J: value 4    <-- new node\n",
       "        I: value 5    <-- new node\n",
       "            H: value 999    <-- new node\n",
       "        E: value 6\n",
       "\u001b[36mres55_1\u001b[39m: \u001b[32mList\u001b[39m[\u001b[32mInt\u001b[39m] = \u001b[33mList\u001b[39m(\u001b[32m0\u001b[39m, \u001b[32m1\u001b[39m, \u001b[32m2\u001b[39m, \u001b[32m3\u001b[39m, \u001b[32m4\u001b[39m, \u001b[32m5\u001b[39m, \u001b[32m999\u001b[39m, \u001b[32m6\u001b[39m)"
      ]
     },
     "execution_count": 56,
     "metadata": {},
     "output_type": "execute_result"
    }
   ],
   "source": [
    "val ys = xs.inserted(5, 999)\n",
    "ys.toList"
   ]
  },
  {
   "cell_type": "markdown",
   "metadata": {
    "slideshow": {
     "slide_type": "slide"
    }
   },
   "source": [
    "## The end!\n",
    "\n",
    "Thanks for listening!\n",
    "\n",
    "(I can't believe we'd have any more time than this, but if we do, I'll answer questions or try ad-libbing some examples or challenges.)"
   ]
  }
 ],
 "metadata": {
  "celltoolbar": "Slideshow",
  "kernelspec": {
   "display_name": "Scala",
   "language": "scala",
   "name": "scala"
  },
  "language_info": {
   "codemirror_mode": "text/x-scala",
   "file_extension": ".scala",
   "mimetype": "text/x-scala",
   "name": "scala211",
   "nbconvert_exporter": "script",
   "pygments_lexer": "scala",
   "version": "2.11.11"
  }
 },
 "nbformat": 4,
 "nbformat_minor": 1
}
